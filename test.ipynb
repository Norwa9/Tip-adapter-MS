{
 "cells": [
  {
   "cell_type": "code",
   "execution_count": 1,
   "metadata": {},
   "outputs": [],
   "source": [
    "import numpy as np\n",
    "import torch\n",
    "from MultiStage.util import *\n",
    "import torch.nn.functional as F"
   ]
  },
  {
   "cell_type": "markdown",
   "metadata": {},
   "source": [
    "# 测试 is_corase_class 函数"
   ]
  },
  {
   "cell_type": "code",
   "execution_count": 2,
   "metadata": {},
   "outputs": [
    {
     "name": "stdout",
     "output_type": "stream",
     "text": [
      "tensor([[[0.4667, 0.4690, 0.7968],\n",
      "         [0.4899, 0.6513, 0.9714]],\n",
      "\n",
      "        [[0.4947, 0.7151, 0.9004],\n",
      "         [0.7598, 0.7424, 0.0694]],\n",
      "\n",
      "        [[0.0119, 0.4664, 0.1145],\n",
      "         [0.9263, 0.9711, 0.5680]],\n",
      "\n",
      "        [[0.1227, 0.8406, 0.1787],\n",
      "         [0.0209, 0.6636, 0.2374]]])\n",
      "tensor([[[0.4506, 0.4528, 0.7693],\n",
      "         [0.3864, 0.5136, 0.7661]],\n",
      "\n",
      "        [[0.3952, 0.5713, 0.7193],\n",
      "         [0.7137, 0.6974, 0.0652]],\n",
      "\n",
      "        [[0.0247, 0.9709, 0.2384],\n",
      "         [0.6356, 0.6664, 0.3898]],\n",
      "\n",
      "        [[0.1413, 0.9683, 0.2059],\n",
      "         [0.0296, 0.9411, 0.3367]]])\n"
     ]
    }
   ],
   "source": [
    "x = torch.rand(4,2,3)  # [batch, k, 1024]\n",
    "print(x)\n",
    "x = x / x.norm(dim=-1, keepdim=True)\n",
    "print(x)"
   ]
  },
  {
   "cell_type": "code",
   "execution_count": null,
   "metadata": {},
   "outputs": [],
   "source": []
  },
  {
   "cell_type": "code",
   "execution_count": 3,
   "metadata": {},
   "outputs": [
    {
     "name": "stdout",
     "output_type": "stream",
     "text": [
      "logits.topk(5)[1]:\n",
      "\t tensor([[6, 1, 0, 4, 7],\n",
      "        [0, 9, 8, 4, 1],\n",
      "        [4, 7, 5, 0, 9],\n",
      "        [7, 2, 4, 8, 0]])\n",
      "target:\n",
      "\t tensor([4, 0, 4, 3])\n",
      "tensor([4])\n"
     ]
    }
   ],
   "source": [
    "\n",
    "logits = torch.rand(4,10)\n",
    "target = torch.randint(0,5,(4,1)).view(-1)\n",
    "print('logits.topk(5)[1]:\\n\\t',logits.topk(5)[1])\n",
    "print('target:\\n\\t',target)\n",
    "print(is_corase_class(logits,target,5))"
   ]
  },
  {
   "cell_type": "code",
   "execution_count": null,
   "metadata": {},
   "outputs": [],
   "source": []
  },
  {
   "cell_type": "markdown",
   "metadata": {},
   "source": [
    "# list"
   ]
  },
  {
   "cell_type": "code",
   "execution_count": 4,
   "metadata": {},
   "outputs": [
    {
     "data": {
      "text/plain": [
       "torch.return_types.topk(\n",
       "values=tensor([0, 0, 0, 0, 0, 0, 0, 0, 0, 0]),\n",
       "indices=tensor([8, 9, 4, 7, 5, 3, 1, 0, 2, 6]))"
      ]
     },
     "execution_count": 4,
     "metadata": {},
     "output_type": "execute_result"
    }
   ],
   "source": [
    "l = torch.zeros(1000,dtype=torch.long)\n",
    "l.topk(10)"
   ]
  },
  {
   "cell_type": "markdown",
   "metadata": {},
   "source": [
    "# imageNet class"
   ]
  },
  {
   "cell_type": "code",
   "execution_count": 5,
   "metadata": {},
   "outputs": [],
   "source": [
    "imagenet_classes = [\"tench\", \"goldfish\", \"great white shark\", \"tiger shark\", \"hammerhead shark\", \"electric ray\",\n",
    "                        \"stingray\", \"rooster\", \"hen\", \"ostrich\", \"brambling\", \"goldfinch\", \"house finch\", \"junco\",\n",
    "                        \"indigo bunting\", \"American robin\", \"bulbul\", \"jay\", \"magpie\", \"chickadee\", \"American dipper\",\n",
    "                        \"kite (bird of prey)\", \"bald eagle\", \"vulture\", \"great grey owl\", \"fire salamander\",\n",
    "                        \"smooth newt\", \"newt\", \"spotted salamander\", \"axolotl\", \"American bullfrog\", \"tree frog\",\n",
    "                        \"tailed frog\", \"loggerhead sea turtle\", \"leatherback sea turtle\", \"mud turtle\", \"terrapin\",\n",
    "                        \"box turtle\", \"banded gecko\", \"green iguana\", \"Carolina anole\",\n",
    "                        \"desert grassland whiptail lizard\", \"agama\", \"frilled-necked lizard\", \"alligator lizard\",\n",
    "                        \"Gila monster\", \"European green lizard\", \"chameleon\", \"Komodo dragon\", \"Nile crocodile\",\n",
    "                        \"American alligator\", \"triceratops\", \"worm snake\", \"ring-necked snake\",\n",
    "                        \"eastern hog-nosed snake\", \"smooth green snake\", \"kingsnake\", \"garter snake\", \"water snake\",\n",
    "                        \"vine snake\", \"night snake\", \"boa constrictor\", \"African rock python\", \"Indian cobra\",\n",
    "                        \"green mamba\", \"sea snake\", \"Saharan horned viper\", \"eastern diamondback rattlesnake\",\n",
    "                        \"sidewinder rattlesnake\", \"trilobite\", \"harvestman\", \"scorpion\", \"yellow garden spider\",\n",
    "                        \"barn spider\", \"European garden spider\", \"southern black widow\", \"tarantula\", \"wolf spider\",\n",
    "                        \"tick\", \"centipede\", \"black grouse\", \"ptarmigan\", \"ruffed grouse\", \"prairie grouse\", \"peafowl\",\n",
    "                        \"quail\", \"partridge\", \"african grey parrot\", \"macaw\", \"sulphur-crested cockatoo\", \"lorikeet\",\n",
    "                        \"coucal\", \"bee eater\", \"hornbill\", \"hummingbird\", \"jacamar\", \"toucan\", \"duck\",\n",
    "                        \"red-breasted merganser\", \"goose\", \"black swan\", \"tusker\", \"echidna\", \"platypus\", \"wallaby\",\n",
    "                        \"koala\", \"wombat\", \"jellyfish\", \"sea anemone\", \"brain coral\", \"flatworm\", \"nematode\", \"conch\",\n",
    "                        \"snail\", \"slug\", \"sea slug\", \"chiton\", \"chambered nautilus\", \"Dungeness crab\", \"rock crab\",\n",
    "                        \"fiddler crab\", \"red king crab\", \"American lobster\", \"spiny lobster\", \"crayfish\", \"hermit crab\",\n",
    "                        \"isopod\", \"white stork\", \"black stork\", \"spoonbill\", \"flamingo\", \"little blue heron\",\n",
    "                        \"great egret\", \"bittern bird\", \"crane bird\", \"limpkin\", \"common gallinule\", \"American coot\",\n",
    "                        \"bustard\", \"ruddy turnstone\", \"dunlin\", \"common redshank\", \"dowitcher\", \"oystercatcher\",\n",
    "                        \"pelican\", \"king penguin\", \"albatross\", \"grey whale\", \"killer whale\", \"dugong\", \"sea lion\",\n",
    "                        \"Chihuahua\", \"Japanese Chin\", \"Maltese\", \"Pekingese\", \"Shih Tzu\", \"King Charles Spaniel\",\n",
    "                        \"Papillon\", \"toy terrier\", \"Rhodesian Ridgeback\", \"Afghan Hound\", \"Basset Hound\", \"Beagle\",\n",
    "                        \"Bloodhound\", \"Bluetick Coonhound\", \"Black and Tan Coonhound\", \"Treeing Walker Coonhound\",\n",
    "                        \"English foxhound\", \"Redbone Coonhound\", \"borzoi\", \"Irish Wolfhound\", \"Italian Greyhound\",\n",
    "                        \"Whippet\", \"Ibizan Hound\", \"Norwegian Elkhound\", \"Otterhound\", \"Saluki\", \"Scottish Deerhound\",\n",
    "                        \"Weimaraner\", \"Staffordshire Bull Terrier\", \"American Staffordshire Terrier\",\n",
    "                        \"Bedlington Terrier\", \"Border Terrier\", \"Kerry Blue Terrier\", \"Irish Terrier\",\n",
    "                        \"Norfolk Terrier\", \"Norwich Terrier\", \"Yorkshire Terrier\", \"Wire Fox Terrier\",\n",
    "                        \"Lakeland Terrier\", \"Sealyham Terrier\", \"Airedale Terrier\", \"Cairn Terrier\",\n",
    "                        \"Australian Terrier\", \"Dandie Dinmont Terrier\", \"Boston Terrier\", \"Miniature Schnauzer\",\n",
    "                        \"Giant Schnauzer\", \"Standard Schnauzer\", \"Scottish Terrier\", \"Tibetan Terrier\",\n",
    "                        \"Australian Silky Terrier\", \"Soft-coated Wheaten Terrier\", \"West Highland White Terrier\",\n",
    "                        \"Lhasa Apso\", \"Flat-Coated Retriever\", \"Curly-coated Retriever\", \"Golden Retriever\",\n",
    "                        \"Labrador Retriever\", \"Chesapeake Bay Retriever\", \"German Shorthaired Pointer\", \"Vizsla\",\n",
    "                        \"English Setter\", \"Irish Setter\", \"Gordon Setter\", \"Brittany dog\", \"Clumber Spaniel\",\n",
    "                        \"English Springer Spaniel\", \"Welsh Springer Spaniel\", \"Cocker Spaniel\", \"Sussex Spaniel\",\n",
    "                        \"Irish Water Spaniel\", \"Kuvasz\", \"Schipperke\", \"Groenendael dog\", \"Malinois\", \"Briard\",\n",
    "                        \"Australian Kelpie\", \"Komondor\", \"Old English Sheepdog\", \"Shetland Sheepdog\", \"collie\",\n",
    "                        \"Border Collie\", \"Bouvier des Flandres dog\", \"Rottweiler\", \"German Shepherd Dog\", \"Dobermann\",\n",
    "                        \"Miniature Pinscher\", \"Greater Swiss Mountain Dog\", \"Bernese Mountain Dog\",\n",
    "                        \"Appenzeller Sennenhund\", \"Entlebucher Sennenhund\", \"Boxer\", \"Bullmastiff\", \"Tibetan Mastiff\",\n",
    "                        \"French Bulldog\", \"Great Dane\", \"St. Bernard\", \"husky\", \"Alaskan Malamute\", \"Siberian Husky\",\n",
    "                        \"Dalmatian\", \"Affenpinscher\", \"Basenji\", \"pug\", \"Leonberger\", \"Newfoundland dog\",\n",
    "                        \"Great Pyrenees dog\", \"Samoyed\", \"Pomeranian\", \"Chow Chow\", \"Keeshond\", \"brussels griffon\",\n",
    "                        \"Pembroke Welsh Corgi\", \"Cardigan Welsh Corgi\", \"Toy Poodle\", \"Miniature Poodle\",\n",
    "                        \"Standard Poodle\", \"Mexican hairless dog (xoloitzcuintli)\", \"grey wolf\", \"Alaskan tundra wolf\",\n",
    "                        \"red wolf or maned wolf\", \"coyote\", \"dingo\", \"dhole\", \"African wild dog\", \"hyena\", \"red fox\",\n",
    "                        \"kit fox\", \"Arctic fox\", \"grey fox\", \"tabby cat\", \"tiger cat\", \"Persian cat\", \"Siamese cat\",\n",
    "                        \"Egyptian Mau\", \"cougar\", \"lynx\", \"leopard\", \"snow leopard\", \"jaguar\", \"lion\", \"tiger\",\n",
    "                        \"cheetah\", \"brown bear\", \"American black bear\", \"polar bear\", \"sloth bear\", \"mongoose\",\n",
    "                        \"meerkat\", \"tiger beetle\", \"ladybug\", \"ground beetle\", \"longhorn beetle\", \"leaf beetle\",\n",
    "                        \"dung beetle\", \"rhinoceros beetle\", \"weevil\", \"fly\", \"bee\", \"ant\", \"grasshopper\",\n",
    "                        \"cricket insect\", \"stick insect\", \"cockroach\", \"praying mantis\", \"cicada\", \"leafhopper\",\n",
    "                        \"lacewing\", \"dragonfly\", \"damselfly\", \"red admiral butterfly\", \"ringlet butterfly\",\n",
    "                        \"monarch butterfly\", \"small white butterfly\", \"sulphur butterfly\", \"gossamer-winged butterfly\",\n",
    "                        \"starfish\", \"sea urchin\", \"sea cucumber\", \"cottontail rabbit\", \"hare\", \"Angora rabbit\",\n",
    "                        \"hamster\", \"porcupine\", \"fox squirrel\", \"marmot\", \"beaver\", \"guinea pig\", \"common sorrel horse\",\n",
    "                        \"zebra\", \"pig\", \"wild boar\", \"warthog\", \"hippopotamus\", \"ox\", \"water buffalo\", \"bison\",\n",
    "                        \"ram (adult male sheep)\", \"bighorn sheep\", \"Alpine ibex\", \"hartebeest\", \"impala (antelope)\",\n",
    "                        \"gazelle\", \"arabian camel\", \"llama\", \"weasel\", \"mink\", \"European polecat\",\n",
    "                        \"black-footed ferret\", \"otter\", \"skunk\", \"badger\", \"armadillo\", \"three-toed sloth\", \"orangutan\",\n",
    "                        \"gorilla\", \"chimpanzee\", \"gibbon\", \"siamang\", \"guenon\", \"patas monkey\", \"baboon\", \"macaque\",\n",
    "                        \"langur\", \"black-and-white colobus\", \"proboscis monkey\", \"marmoset\", \"white-headed capuchin\",\n",
    "                        \"howler monkey\", \"titi monkey\", \"Geoffroy's spider monkey\", \"common squirrel monkey\",\n",
    "                        \"ring-tailed lemur\", \"indri\", \"Asian elephant\", \"African bush elephant\", \"red panda\",\n",
    "                        \"giant panda\", \"snoek fish\", \"eel\", \"silver salmon\", \"rock beauty fish\", \"clownfish\",\n",
    "                        \"sturgeon\", \"gar fish\", \"lionfish\", \"pufferfish\", \"abacus\", \"abaya\", \"academic gown\",\n",
    "                        \"accordion\", \"acoustic guitar\", \"aircraft carrier\", \"airliner\", \"airship\", \"altar\", \"ambulance\",\n",
    "                        \"amphibious vehicle\", \"analog clock\", \"apiary\", \"apron\", \"trash can\", \"assault rifle\",\n",
    "                        \"backpack\", \"bakery\", \"balance beam\", \"balloon\", \"ballpoint pen\", \"Band-Aid\", \"banjo\",\n",
    "                        \"baluster / handrail\", \"barbell\", \"barber chair\", \"barbershop\", \"barn\", \"barometer\", \"barrel\",\n",
    "                        \"wheelbarrow\", \"baseball\", \"basketball\", \"bassinet\", \"bassoon\", \"swimming cap\", \"bath towel\",\n",
    "                        \"bathtub\", \"station wagon\", \"lighthouse\", \"beaker\", \"military hat (bearskin or shako)\",\n",
    "                        \"beer bottle\", \"beer glass\", \"bell tower\", \"baby bib\", \"tandem bicycle\", \"bikini\",\n",
    "                        \"ring binder\", \"binoculars\", \"birdhouse\", \"boathouse\", \"bobsleigh\", \"bolo tie\", \"poke bonnet\",\n",
    "                        \"bookcase\", \"bookstore\", \"bottle cap\", \"hunting bow\", \"bow tie\", \"brass memorial plaque\", \"bra\",\n",
    "                        \"breakwater\", \"breastplate\", \"broom\", \"bucket\", \"buckle\", \"bulletproof vest\",\n",
    "                        \"high-speed train\", \"butcher shop\", \"taxicab\", \"cauldron\", \"candle\", \"cannon\", \"canoe\",\n",
    "                        \"can opener\", \"cardigan\", \"car mirror\", \"carousel\", \"tool kit\", \"cardboard box / carton\",\n",
    "                        \"car wheel\", \"automated teller machine\", \"cassette\", \"cassette player\", \"castle\", \"catamaran\",\n",
    "                        \"CD player\", \"cello\", \"mobile phone\", \"chain\", \"chain-link fence\", \"chain mail\", \"chainsaw\",\n",
    "                        \"storage chest\", \"chiffonier\", \"bell or wind chime\", \"china cabinet\", \"Christmas stocking\",\n",
    "                        \"church\", \"movie theater\", \"cleaver\", \"cliff dwelling\", \"cloak\", \"clogs\", \"cocktail shaker\",\n",
    "                        \"coffee mug\", \"coffeemaker\", \"spiral or coil\", \"combination lock\", \"computer keyboard\",\n",
    "                        \"candy store\", \"container ship\", \"convertible\", \"corkscrew\", \"cornet\", \"cowboy boot\",\n",
    "                        \"cowboy hat\", \"cradle\", \"construction crane\", \"crash helmet\", \"crate\", \"infant bed\",\n",
    "                        \"Crock Pot\", \"croquet ball\", \"crutch\", \"cuirass\", \"dam\", \"desk\", \"desktop computer\",\n",
    "                        \"rotary dial telephone\", \"diaper\", \"digital clock\", \"digital watch\", \"dining table\",\n",
    "                        \"dishcloth\", \"dishwasher\", \"disc brake\", \"dock\", \"dog sled\", \"dome\", \"doormat\", \"drilling rig\",\n",
    "                        \"drum\", \"drumstick\", \"dumbbell\", \"Dutch oven\", \"electric fan\", \"electric guitar\",\n",
    "                        \"electric locomotive\", \"entertainment center\", \"envelope\", \"espresso machine\", \"face powder\",\n",
    "                        \"feather boa\", \"filing cabinet\", \"fireboat\", \"fire truck\", \"fire screen\", \"flagpole\", \"flute\",\n",
    "                        \"folding chair\", \"football helmet\", \"forklift\", \"fountain\", \"fountain pen\", \"four-poster bed\",\n",
    "                        \"freight car\", \"French horn\", \"frying pan\", \"fur coat\", \"garbage truck\",\n",
    "                        \"gas mask or respirator\", \"gas pump\", \"goblet\", \"go-kart\", \"golf ball\", \"golf cart\", \"gondola\",\n",
    "                        \"gong\", \"gown\", \"grand piano\", \"greenhouse\", \"radiator grille\", \"grocery store\", \"guillotine\",\n",
    "                        \"hair clip\", \"hair spray\", \"half-track\", \"hammer\", \"hamper\", \"hair dryer\", \"hand-held computer\",\n",
    "                        \"handkerchief\", \"hard disk drive\", \"harmonica\", \"harp\", \"combine harvester\", \"hatchet\",\n",
    "                        \"holster\", \"home theater\", \"honeycomb\", \"hook\", \"hoop skirt\", \"gymnastic horizontal bar\",\n",
    "                        \"horse-drawn vehicle\", \"hourglass\", \"iPod\", \"clothes iron\", \"carved pumpkin\", \"jeans\", \"jeep\",\n",
    "                        \"T-shirt\", \"jigsaw puzzle\", \"rickshaw\", \"joystick\", \"kimono\", \"knee pad\", \"knot\", \"lab coat\",\n",
    "                        \"ladle\", \"lampshade\", \"laptop computer\", \"lawn mower\", \"lens cap\", \"letter opener\", \"library\",\n",
    "                        \"lifeboat\", \"lighter\", \"limousine\", \"ocean liner\", \"lipstick\", \"slip-on shoe\", \"lotion\",\n",
    "                        \"music speaker\", \"loupe magnifying glass\", \"sawmill\", \"magnetic compass\", \"messenger bag\",\n",
    "                        \"mailbox\", \"tights\", \"one-piece bathing suit\", \"manhole cover\", \"maraca\", \"marimba\", \"mask\",\n",
    "                        \"matchstick\", \"maypole\", \"maze\", \"measuring cup\", \"medicine cabinet\", \"megalith\", \"microphone\",\n",
    "                        \"microwave oven\", \"military uniform\", \"milk can\", \"minibus\", \"miniskirt\", \"minivan\", \"missile\",\n",
    "                        \"mitten\", \"mixing bowl\", \"mobile home\", \"ford model t\", \"modem\", \"monastery\", \"monitor\",\n",
    "                        \"moped\", \"mortar and pestle\", \"graduation cap\", \"mosque\", \"mosquito net\", \"vespa\",\n",
    "                        \"mountain bike\", \"tent\", \"computer mouse\", \"mousetrap\", \"moving van\", \"muzzle\", \"metal nail\",\n",
    "                        \"neck brace\", \"necklace\", \"baby pacifier\", \"notebook computer\", \"obelisk\", \"oboe\", \"ocarina\",\n",
    "                        \"odometer\", \"oil filter\", \"pipe organ\", \"oscilloscope\", \"overskirt\", \"bullock cart\",\n",
    "                        \"oxygen mask\", \"product packet / packaging\", \"paddle\", \"paddle wheel\", \"padlock\", \"paintbrush\",\n",
    "                        \"pajamas\", \"palace\", \"pan flute\", \"paper towel\", \"parachute\", \"parallel bars\", \"park bench\",\n",
    "                        \"parking meter\", \"railroad car\", \"patio\", \"payphone\", \"pedestal\", \"pencil case\",\n",
    "                        \"pencil sharpener\", \"perfume\", \"Petri dish\", \"photocopier\", \"plectrum\", \"Pickelhaube\",\n",
    "                        \"picket fence\", \"pickup truck\", \"pier\", \"piggy bank\", \"pill bottle\", \"pillow\", \"ping-pong ball\",\n",
    "                        \"pinwheel\", \"pirate ship\", \"drink pitcher\", \"block plane\", \"planetarium\", \"plastic bag\",\n",
    "                        \"plate rack\", \"farm plow\", \"plunger\", \"Polaroid camera\", \"pole\", \"police van\", \"poncho\",\n",
    "                        \"pool table\", \"soda bottle\", \"plant pot\", \"potter's wheel\", \"power drill\", \"prayer rug\",\n",
    "                        \"printer\", \"prison\", \"missile\", \"projector\", \"hockey puck\", \"punching bag\", \"purse\", \"quill\",\n",
    "                        \"quilt\", \"race car\", \"racket\", \"radiator\", \"radio\", \"radio telescope\", \"rain barrel\",\n",
    "                        \"recreational vehicle\", \"fishing casting reel\", \"reflex camera\", \"refrigerator\",\n",
    "                        \"remote control\", \"restaurant\", \"revolver\", \"rifle\", \"rocking chair\", \"rotisserie\", \"eraser\",\n",
    "                        \"rugby ball\", \"ruler measuring stick\", \"sneaker\", \"safe\", \"safety pin\", \"salt shaker\", \"sandal\",\n",
    "                        \"sarong\", \"saxophone\", \"scabbard\", \"weighing scale\", \"school bus\", \"schooner\", \"scoreboard\",\n",
    "                        \"CRT monitor\", \"screw\", \"screwdriver\", \"seat belt\", \"sewing machine\", \"shield\", \"shoe store\",\n",
    "                        \"shoji screen / room divider\", \"shopping basket\", \"shopping cart\", \"shovel\", \"shower cap\",\n",
    "                        \"shower curtain\", \"ski\", \"balaclava ski mask\", \"sleeping bag\", \"slide rule\", \"sliding door\",\n",
    "                        \"slot machine\", \"snorkel\", \"snowmobile\", \"snowplow\", \"soap dispenser\", \"soccer ball\", \"sock\",\n",
    "                        \"solar thermal collector\", \"sombrero\", \"soup bowl\", \"keyboard space bar\", \"space heater\",\n",
    "                        \"space shuttle\", \"spatula\", \"motorboat\", \"spider web\", \"spindle\", \"sports car\", \"spotlight\",\n",
    "                        \"stage\", \"steam locomotive\", \"through arch bridge\", \"steel drum\", \"stethoscope\", \"scarf\",\n",
    "                        \"stone wall\", \"stopwatch\", \"stove\", \"strainer\", \"tram\", \"stretcher\", \"couch\", \"stupa\",\n",
    "                        \"submarine\", \"suit\", \"sundial\", \"sunglasses\", \"sunglasses\", \"sunscreen\", \"suspension bridge\",\n",
    "                        \"mop\", \"sweatshirt\", \"swim trunks / shorts\", \"swing\", \"electrical switch\", \"syringe\",\n",
    "                        \"table lamp\", \"tank\", \"tape player\", \"teapot\", \"teddy bear\", \"television\", \"tennis ball\",\n",
    "                        \"thatched roof\", \"front curtain\", \"thimble\", \"threshing machine\", \"throne\", \"tile roof\",\n",
    "                        \"toaster\", \"tobacco shop\", \"toilet seat\", \"torch\", \"totem pole\", \"tow truck\", \"toy store\",\n",
    "                        \"tractor\", \"semi-trailer truck\", \"tray\", \"trench coat\", \"tricycle\", \"trimaran\", \"tripod\",\n",
    "                        \"triumphal arch\", \"trolleybus\", \"trombone\", \"hot tub\", \"turnstile\", \"typewriter keyboard\",\n",
    "                        \"umbrella\", \"unicycle\", \"upright piano\", \"vacuum cleaner\", \"vase\", \"vaulted or arched ceiling\",\n",
    "                        \"velvet fabric\", \"vending machine\", \"vestment\", \"viaduct\", \"violin\", \"volleyball\",\n",
    "                        \"waffle iron\", \"wall clock\", \"wallet\", \"wardrobe\", \"military aircraft\", \"sink\",\n",
    "                        \"washing machine\", \"water bottle\", \"water jug\", \"water tower\", \"whiskey jug\", \"whistle\",\n",
    "                        \"hair wig\", \"window screen\", \"window shade\", \"Windsor tie\", \"wine bottle\", \"airplane wing\",\n",
    "                        \"wok\", \"wooden spoon\", \"wool\", \"split-rail fence\", \"shipwreck\", \"sailboat\", \"yurt\", \"website\",\n",
    "                        \"comic book\", \"crossword\", \"traffic or street sign\", \"traffic light\", \"dust jacket\", \"menu\",\n",
    "                        \"plate\", \"guacamole\", \"consomme\", \"hot pot\", \"trifle\", \"ice cream\", \"popsicle\", \"baguette\",\n",
    "                        \"bagel\", \"pretzel\", \"cheeseburger\", \"hot dog\", \"mashed potatoes\", \"cabbage\", \"broccoli\",\n",
    "                        \"cauliflower\", \"zucchini\", \"spaghetti squash\", \"acorn squash\", \"butternut squash\", \"cucumber\",\n",
    "                        \"artichoke\", \"bell pepper\", \"cardoon\", \"mushroom\", \"Granny Smith apple\", \"strawberry\", \"orange\",\n",
    "                        \"lemon\", \"fig\", \"pineapple\", \"banana\", \"jackfruit\", \"cherimoya (custard apple)\", \"pomegranate\",\n",
    "                        \"hay\", \"carbonara\", \"chocolate syrup\", \"dough\", \"meatloaf\", \"pizza\", \"pot pie\", \"burrito\",\n",
    "                        \"red wine\", \"espresso\", \"tea cup\", \"eggnog\", \"mountain\", \"bubble\", \"cliff\", \"coral reef\",\n",
    "                        \"geyser\", \"lakeshore\", \"promontory\", \"sandbar\", \"beach\", \"valley\", \"volcano\", \"baseball player\",\n",
    "                        \"bridegroom\", \"scuba diver\", \"rapeseed\", \"daisy\", \"yellow lady's slipper\", \"corn\", \"acorn\",\n",
    "                        \"rose hip\", \"horse chestnut seed\", \"coral fungus\", \"agaric\", \"gyromitra\", \"stinkhorn mushroom\",\n",
    "                        \"earth star fungus\", \"hen of the woods mushroom\", \"bolete\", \"corn cob\", \"toilet paper\"]"
   ]
  },
  {
   "cell_type": "code",
   "execution_count": 6,
   "metadata": {},
   "outputs": [
    {
     "name": "stdout",
     "output_type": "stream",
     "text": [
      "sidewinder rattlesnake\n"
     ]
    }
   ],
   "source": [
    "print(imagenet_classes[68])"
   ]
  },
  {
   "cell_type": "code",
   "execution_count": 7,
   "metadata": {},
   "outputs": [
    {
     "name": "stdout",
     "output_type": "stream",
     "text": [
      "1000\n",
      "torch.return_types.topk(\n",
      "values=tensor([11, 10,  9,  9,  8,  8,  8,  7,  7,  7,  7,  7,  7,  7,  7,  7,  7,  7,\n",
      "         7,  6,  6,  6,  6,  6,  6,  6,  6,  6,  6,  6,  6,  6,  6,  6,  6,  6,\n",
      "         6,  6,  6,  6,  6,  6,  6,  6,  6,  5,  5,  5,  5,  5,  5,  5,  5,  5,\n",
      "         5,  5,  5,  5,  5,  5,  5,  5,  5,  5,  5,  5,  5,  5,  5,  5,  5,  5,\n",
      "         5,  5,  5,  5,  5,  5,  5,  5,  5,  5,  5,  5,  5,  5,  5,  5,  5,  5,\n",
      "         5,  5,  5,  5,  5,  5,  5,  5,  5,  5]),\n",
      "indices=tensor([380, 240, 516,  66, 157, 840,  54, 526,  73, 733,  68, 222, 219, 567,\n",
      "        304, 418, 469, 342, 487, 408, 663, 826, 664, 241, 246, 725, 381, 845,\n",
      "        848, 749, 512, 153, 173, 488, 527, 189, 542, 893, 748, 438, 231, 947,\n",
      "        461, 204, 193, 647, 220, 730, 227, 596, 229, 810,  86, 373, 631, 644,\n",
      "        421, 419, 584, 885, 744, 256, 264, 618, 266, 282, 662, 262, 267,  26,\n",
      "        636, 883, 771, 318, 341, 910, 911, 164, 134, 187, 348, 192, 777, 194,\n",
      "        200, 305, 390, 689, 163, 509, 112, 207, 999, 767, 585, 578, 452, 215,\n",
      "        790, 813]))\n",
      "0\n"
     ]
    }
   ],
   "source": [
    "topK_corase_classes_list = torch.load('/data/luowei/missing_modality/Tip-Adapter-Multi-Stage/checkpoints/classed_indices.pt')\n",
    "print(len(topK_corase_classes_list))\n",
    "print(topK_corase_classes_list.topk(100))\n",
    "\n",
    "top100 = topK_corase_classes_list.topk(100)[1]\n",
    "\n",
    "if 60 in topK_corase_classes_list.topk(100)[1]:\n",
    "    print('1')\n",
    "else:\n",
    "    print(0)\n"
   ]
  },
  {
   "cell_type": "markdown",
   "metadata": {},
   "source": [
    "# save tensor"
   ]
  },
  {
   "cell_type": "code",
   "execution_count": 8,
   "metadata": {},
   "outputs": [
    {
     "name": "stdout",
     "output_type": "stream",
     "text": [
      "torch.Size([2, 3])\n",
      "torch.Size([3, 2])\n"
     ]
    }
   ],
   "source": [
    "path = '/data/luowei/missing_modality/Tip-Adapter-Multi-Stage/checkpoints/test.pt'\n",
    "a = torch.tensor([[1,2,3],[1,2,3]])\n",
    "torch.save(a,path)\n",
    "\n",
    "b = torch.load(path)\n",
    "print(b.shape)\n",
    "b = b.T\n",
    "print(b.shape)\n"
   ]
  },
  {
   "cell_type": "markdown",
   "metadata": {},
   "source": [
    "# 矩阵相乘"
   ]
  },
  {
   "cell_type": "code",
   "execution_count": 9,
   "metadata": {},
   "outputs": [
    {
     "name": "stdout",
     "output_type": "stream",
     "text": [
      "torch.Size([2, 4])\n",
      "tensor([[0.1523, 1.0996, 0.9096, 0.7784],\n",
      "        [0.9266, 0.7442, 1.2399, 0.5023]])\n"
     ]
    }
   ],
   "source": [
    "a = torch.rand(2,3,4)\n",
    "b = torch.rand(2,3)\n",
    "b = b.unsqueeze(1)\n",
    "# print(a)\n",
    "# print(b)\n",
    "res = b @ a\n",
    "# res = torch.matmul(b,a)\n",
    "res = res.squeeze(1)\n",
    "print(res.shape)\n",
    "print(res)"
   ]
  },
  {
   "cell_type": "code",
   "execution_count": 10,
   "metadata": {},
   "outputs": [
    {
     "name": "stdout",
     "output_type": "stream",
     "text": [
      "torch.Size([5, 3, 2])\n"
     ]
    }
   ],
   "source": [
    "a = torch.ones(3,4)\n",
    "b = torch.ones(5,4,2)\n",
    "res = torch.matmul(a, b)\n",
    "print(res.shape)"
   ]
  },
  {
   "cell_type": "markdown",
   "metadata": {},
   "source": [
    "# list获取元素下标"
   ]
  },
  {
   "cell_type": "code",
   "execution_count": 11,
   "metadata": {},
   "outputs": [
    {
     "name": "stdout",
     "output_type": "stream",
     "text": [
      "1\n",
      "3\n"
     ]
    }
   ],
   "source": [
    "a =  [1,2,3,4,5]\n",
    "print(a.index(2)) \n",
    "print(np.random.randint(0,5))"
   ]
  },
  {
   "cell_type": "markdown",
   "metadata": {},
   "source": [
    "# 测试 find_topk_classes（）"
   ]
  },
  {
   "cell_type": "code",
   "execution_count": 12,
   "metadata": {},
   "outputs": [],
   "source": [
    "def find_topk_classes(logits:torch.Tensor, target:torch.Tensor, classNames:list, zeroshot_weights_dict, k:int = 5):\n",
    "    logits = logits.to(torch.float32) # 转精度\n",
    "    indices = logits.topk(k)[1] # [batch , k]\n",
    "\n",
    "    offset = k\n",
    "\n",
    "    # 1. new target\n",
    "    new_target = [] # [batch]\n",
    "    # 对于一个样本，如果其topk中有GT，则将其新标签定义为topK中GT的下标\n",
    "    # 如果其topK没有GT，那么就在[0,K)中随机赋值一个新标签给该样本 TODO\n",
    "    for index, topK_i in enumerate(indices):\n",
    "        target_i = target[index]\n",
    "        if target_i in topK_i:\n",
    "            new_target_i = ((topK_i == target_i).nonzero(as_tuple=True)[0]).item()\n",
    "        else:\n",
    "            new_target_i = target_i + offset\n",
    "        new_target.append(new_target_i)\n",
    "\n",
    "    new_target = torch.tensor(new_target).cuda()\n",
    "    \n",
    "    # 2. class embedding  \n",
    "    class_embeddings = [] # [batch, k, 1024]\n",
    "    for index, indices_i in enumerate(indices):\n",
    "        embeddings = []\n",
    "        for i in indices_i:\n",
    "            name = classNames[i]\n",
    "            embeddings.append(zeroshot_weights_dict[name])\n",
    "        \n",
    "        # add neg embedding\n",
    "        if new_target[index] >= k: # 说明topK中没有GT\n",
    "            # 获取GT的类别下标\n",
    "            extra_index = new_target[index] - offset\n",
    "            print(f'index:{index},pos, extra_index:{extra_index}')\n",
    "            new_target[index] = k # 把GT作为第k+1个class embedding\n",
    "        else:\n",
    "            # 随机从TopK以外的下标中取一个作为负类样本\n",
    "            while(1):\n",
    "                extra_index = np.random.randint(0,len(classNames))\n",
    "                if extra_index not in indices_i:\n",
    "                    print(f'index:{index},neg, extra_index:{extra_index}')\n",
    "                    break\n",
    "        neg_name = classNames[extra_index]\n",
    "        embeddings.append(zeroshot_weights_dict[neg_name])\n",
    "        embeddings = torch.stack(embeddings) # [k+1, 1024]\n",
    "        class_embeddings.append(embeddings)\n",
    "    class_embeddings = torch.stack(class_embeddings)\n",
    "\n",
    "\n",
    "    return class_embeddings, new_target"
   ]
  },
  {
   "cell_type": "code",
   "execution_count": 13,
   "metadata": {},
   "outputs": [],
   "source": [
    "zeroshot_weights_dict = torch.load('/data/luowei/missing_modality/Tip-Adapter-Multi-Stage/checkpoints/zeroshot_weights_dict.pt')"
   ]
  },
  {
   "cell_type": "code",
   "execution_count": 14,
   "metadata": {},
   "outputs": [
    {
     "name": "stdout",
     "output_type": "stream",
     "text": [
      "index:0,neg, extra_index:777\n",
      "index:1,pos, extra_index:0\n",
      "index:2,neg, extra_index:41\n",
      "index:3,neg, extra_index:362\n"
     ]
    }
   ],
   "source": [
    "logits = torch.rand(4,10)\n",
    "target = torch.randint(0,10,(4,1)).view(-1)\n",
    "class_embeddings, new_target = find_topk_classes(logits,target,imagenet_classes,zeroshot_weights_dict,5)"
   ]
  },
  {
   "cell_type": "code",
   "execution_count": 15,
   "metadata": {},
   "outputs": [
    {
     "name": "stdout",
     "output_type": "stream",
     "text": [
      "tensor([[4, 9, 7, 2, 1, 8, 0, 5, 6, 3],\n",
      "        [1, 3, 7, 4, 6, 9, 0, 8, 2, 5],\n",
      "        [4, 5, 7, 8, 0, 9, 1, 6, 3, 2],\n",
      "        [7, 2, 0, 5, 1, 6, 4, 3, 8, 9]])\n",
      "target:\n",
      "\t tensor([7, 0, 5, 7])\n",
      "new_target:\n",
      "\t tensor([2, 5, 1, 0], device='cuda:0')\n"
     ]
    }
   ],
   "source": [
    "print(logits.topk(10)[1])\n",
    "print('target:\\n\\t',target)\n",
    "print('new_target:\\n\\t',new_target)"
   ]
  },
  {
   "cell_type": "markdown",
   "metadata": {},
   "source": [
    "# topK_indices_to_mask"
   ]
  },
  {
   "cell_type": "code",
   "execution_count": 16,
   "metadata": {},
   "outputs": [],
   "source": [
    "def topK_indices_to_mask(batch_topk_indices:torch.tensor, class_num = 1000, shot = 16):\n",
    "    batch_size = batch_topk_indices.shape[0]\n",
    "    masks_class = torch.zeros(batch_size, class_num)\n",
    "\n",
    "    for index, indices in enumerate(batch_topk_indices):\n",
    "        for i in indices:\n",
    "            masks_class[index][i] = 1\n",
    "    \n",
    "    \n",
    "    masks_sample = masks_class.unsqueeze(2)\n",
    "    masks_sample = masks_sample.repeat(1,1,16)\n",
    "    masks_sample = masks_sample.view(batch,-1)\n",
    "\n",
    "\n",
    "    return masks_sample, masks_class"
   ]
  },
  {
   "cell_type": "code",
   "execution_count": 17,
   "metadata": {},
   "outputs": [],
   "source": [
    "def topK_indices_to_mask_V2(logits:torch.tensor, target:torch.tensor, class_num = 1000, topK = 5, shot = 16):\n",
    "    batch_topk_indices = logits.topk(topK)[1]\n",
    "    batch_size = batch_topk_indices.shape[0]\n",
    "    masks_class = torch.zeros(batch_size, class_num)\n",
    "\n",
    "    for index, indices in enumerate(batch_topk_indices):\n",
    "        for i in indices:\n",
    "            masks_class[index][i] = 1\n",
    "            masks_class[index][target[index]] = 1 \n",
    "    \n",
    "    \n",
    "    masks_sample = masks_class.unsqueeze(2)\n",
    "    masks_sample = masks_sample.repeat(1,1,shot)\n",
    "    masks_sample = masks_sample.view(batch_size, -1)\n",
    "\n",
    "\n",
    "    return masks_sample, masks_class"
   ]
  },
  {
   "cell_type": "code",
   "execution_count": 18,
   "metadata": {},
   "outputs": [
    {
     "name": "stdout",
     "output_type": "stream",
     "text": [
      "tensor([4, 0, 5, 6])\n",
      "tensor([[9, 7, 6, 1, 4],\n",
      "        [1, 4, 0, 7, 9],\n",
      "        [8, 1, 7, 5, 4],\n",
      "        [7, 6, 4, 0, 1]])\n",
      "tensor([[0., 1., 0., 0., 1., 0., 1., 1., 0., 1.],\n",
      "        [1., 1., 0., 0., 1., 0., 0., 1., 0., 1.],\n",
      "        [0., 1., 0., 0., 1., 1., 0., 1., 1., 0.],\n",
      "        [1., 1., 0., 0., 1., 0., 1., 1., 0., 0.]])\n",
      "tensor([[0., 0., 0., 0., 0., 0., 0., 0., 0., 0., 0., 0., 0., 0., 0., 0., 1., 1.,\n",
      "         1., 1., 1., 1., 1., 1., 1., 1., 1., 1., 1., 1., 1., 1., 0., 0., 0., 0.,\n",
      "         0., 0., 0., 0., 0., 0., 0., 0., 0., 0., 0., 0., 0., 0., 0., 0., 0., 0.,\n",
      "         0., 0., 0., 0., 0., 0., 0., 0., 0., 0., 1., 1., 1., 1., 1., 1., 1., 1.,\n",
      "         1., 1., 1., 1., 1., 1., 1., 1., 0., 0., 0., 0., 0., 0., 0., 0., 0., 0.,\n",
      "         0., 0., 0., 0., 0., 0., 1., 1., 1., 1., 1., 1., 1., 1., 1., 1., 1., 1.,\n",
      "         1., 1., 1., 1., 1., 1., 1., 1., 1., 1., 1., 1., 1., 1., 1., 1., 1., 1.,\n",
      "         1., 1., 0., 0., 0., 0., 0., 0., 0., 0., 0., 0., 0., 0., 0., 0., 0., 0.,\n",
      "         1., 1., 1., 1., 1., 1., 1., 1., 1., 1., 1., 1., 1., 1., 1., 1.],\n",
      "        [1., 1., 1., 1., 1., 1., 1., 1., 1., 1., 1., 1., 1., 1., 1., 1., 1., 1.,\n",
      "         1., 1., 1., 1., 1., 1., 1., 1., 1., 1., 1., 1., 1., 1., 0., 0., 0., 0.,\n",
      "         0., 0., 0., 0., 0., 0., 0., 0., 0., 0., 0., 0., 0., 0., 0., 0., 0., 0.,\n",
      "         0., 0., 0., 0., 0., 0., 0., 0., 0., 0., 1., 1., 1., 1., 1., 1., 1., 1.,\n",
      "         1., 1., 1., 1., 1., 1., 1., 1., 0., 0., 0., 0., 0., 0., 0., 0., 0., 0.,\n",
      "         0., 0., 0., 0., 0., 0., 0., 0., 0., 0., 0., 0., 0., 0., 0., 0., 0., 0.,\n",
      "         0., 0., 0., 0., 1., 1., 1., 1., 1., 1., 1., 1., 1., 1., 1., 1., 1., 1.,\n",
      "         1., 1., 0., 0., 0., 0., 0., 0., 0., 0., 0., 0., 0., 0., 0., 0., 0., 0.,\n",
      "         1., 1., 1., 1., 1., 1., 1., 1., 1., 1., 1., 1., 1., 1., 1., 1.],\n",
      "        [0., 0., 0., 0., 0., 0., 0., 0., 0., 0., 0., 0., 0., 0., 0., 0., 1., 1.,\n",
      "         1., 1., 1., 1., 1., 1., 1., 1., 1., 1., 1., 1., 1., 1., 0., 0., 0., 0.,\n",
      "         0., 0., 0., 0., 0., 0., 0., 0., 0., 0., 0., 0., 0., 0., 0., 0., 0., 0.,\n",
      "         0., 0., 0., 0., 0., 0., 0., 0., 0., 0., 1., 1., 1., 1., 1., 1., 1., 1.,\n",
      "         1., 1., 1., 1., 1., 1., 1., 1., 1., 1., 1., 1., 1., 1., 1., 1., 1., 1.,\n",
      "         1., 1., 1., 1., 1., 1., 0., 0., 0., 0., 0., 0., 0., 0., 0., 0., 0., 0.,\n",
      "         0., 0., 0., 0., 1., 1., 1., 1., 1., 1., 1., 1., 1., 1., 1., 1., 1., 1.,\n",
      "         1., 1., 1., 1., 1., 1., 1., 1., 1., 1., 1., 1., 1., 1., 1., 1., 1., 1.,\n",
      "         0., 0., 0., 0., 0., 0., 0., 0., 0., 0., 0., 0., 0., 0., 0., 0.],\n",
      "        [1., 1., 1., 1., 1., 1., 1., 1., 1., 1., 1., 1., 1., 1., 1., 1., 1., 1.,\n",
      "         1., 1., 1., 1., 1., 1., 1., 1., 1., 1., 1., 1., 1., 1., 0., 0., 0., 0.,\n",
      "         0., 0., 0., 0., 0., 0., 0., 0., 0., 0., 0., 0., 0., 0., 0., 0., 0., 0.,\n",
      "         0., 0., 0., 0., 0., 0., 0., 0., 0., 0., 1., 1., 1., 1., 1., 1., 1., 1.,\n",
      "         1., 1., 1., 1., 1., 1., 1., 1., 0., 0., 0., 0., 0., 0., 0., 0., 0., 0.,\n",
      "         0., 0., 0., 0., 0., 0., 1., 1., 1., 1., 1., 1., 1., 1., 1., 1., 1., 1.,\n",
      "         1., 1., 1., 1., 1., 1., 1., 1., 1., 1., 1., 1., 1., 1., 1., 1., 1., 1.,\n",
      "         1., 1., 0., 0., 0., 0., 0., 0., 0., 0., 0., 0., 0., 0., 0., 0., 0., 0.,\n",
      "         0., 0., 0., 0., 0., 0., 0., 0., 0., 0., 0., 0., 0., 0., 0., 0.]])\n"
     ]
    }
   ],
   "source": [
    "batch = 4\n",
    "class_num = 10\n",
    "shot = 16\n",
    "topk = 5\n",
    "logits = torch.randint(0,class_num,(batch,class_num))\n",
    "target = torch.randint(0,class_num,(batch,1)).view(-1)\n",
    "masks_sample, masks_class = topK_indices_to_mask_V2(logits, target, class_num, topk, shot)\n",
    "print(target)\n",
    "print(logits.topk(topk)[1])\n",
    "print(masks_class)\n",
    "print(masks_sample)\n"
   ]
  },
  {
   "cell_type": "markdown",
   "metadata": {},
   "source": [
    "# 矩阵乘法"
   ]
  },
  {
   "cell_type": "code",
   "execution_count": 19,
   "metadata": {},
   "outputs": [
    {
     "name": "stdout",
     "output_type": "stream",
     "text": [
      "tensor([[0.7092, 0.9913],\n",
      "        [0.6051, 0.0817]])\n",
      "tensor([[0.4073, 0.8178],\n",
      "        [0.9374, 0.2332]])\n",
      "torch.Size([2, 2])\n",
      "tensor([[0.2889, 0.8107],\n",
      "        [0.5672, 0.0190]])\n"
     ]
    }
   ],
   "source": [
    "a = torch.rand(2,2)\n",
    "b = torch.rand(2,2)\n",
    "res = a * b \n",
    "print(a)\n",
    "print(b)\n",
    "print(res.shape)\n",
    "print(res)"
   ]
  },
  {
   "cell_type": "markdown",
   "metadata": {},
   "source": [
    "# repeat"
   ]
  },
  {
   "cell_type": "code",
   "execution_count": 20,
   "metadata": {},
   "outputs": [
    {
     "name": "stdout",
     "output_type": "stream",
     "text": [
      "torch.Size([256, 1000])\n",
      "torch.Size([256, 16000])\n"
     ]
    }
   ],
   "source": [
    "batch = 256\n",
    "class_num = 1000\n",
    "a = torch.randint(0,2,(batch,class_num))\n",
    "print(a.shape)\n",
    "b = a.unsqueeze(2)\n",
    "b = b.repeat(1,1,16)\n",
    "b = b.view(batch,-1)\n",
    "print(b.shape)"
   ]
  },
  {
   "cell_type": "markdown",
   "metadata": {},
   "source": [
    "# Mask的顺序"
   ]
  },
  {
   "cell_type": "code",
   "execution_count": 21,
   "metadata": {},
   "outputs": [
    {
     "name": "stdout",
     "output_type": "stream",
     "text": [
      "tensor([[0., 0., 0., 0., 1., 0., 0., 0., 1., 0.],\n",
      "        [1., 1., 1., 0., 1., 0., 0., 1., 1., 0.],\n",
      "        [1., 0., 0., 1., 0., 1., 1., 0., 0., 1.],\n",
      "        [0., 0., 0., 1., 1., 1., 1., 1., 1., 0.],\n",
      "        [0., 1., 1., 1., 0., 1., 1., 0., 1., 1.],\n",
      "        [0., 0., 0., 0., 0., 0., 1., 1., 1., 0.],\n",
      "        [1., 0., 1., 0., 1., 1., 0., 1., 1., 1.],\n",
      "        [1., 1., 0., 0., 0., 0., 1., 0., 1., 0.],\n",
      "        [0., 1., 0., 1., 1., 1., 0., 0., 0., 1.],\n",
      "        [0., 0., 0., 0., 1., 0., 0., 1., 1., 1.],\n",
      "        [0., 1., 0., 1., 0., 1., 0., 0., 1., 1.],\n",
      "        [1., 0., 1., 0., 0., 0., 0., 0., 0., 0.],\n",
      "        [0., 1., 1., 0., 1., 0., 1., 1., 1., 0.],\n",
      "        [1., 1., 0., 0., 0., 0., 0., 0., 0., 1.],\n",
      "        [0., 1., 0., 0., 1., 0., 0., 0., 1., 1.],\n",
      "        [0., 0., 1., 0., 0., 0., 0., 0., 1., 1.]], dtype=torch.float16)\n",
      "tensor([0.0000, 0.0000, 0.0000, 0.0000, 7.5469, 0.0000, 0.0000, 0.0000, 7.6992,\n",
      "        0.0000], dtype=torch.float16)\n",
      "torch.Size([16, 10])\n",
      "tensor([0.0000, 0.0000, 0.0000, 0.0000, 7.5469, 0.0000, 0.0000, 0.0000, 7.6992,\n",
      "        0.0000], dtype=torch.float16)\n",
      "tensor(True)\n"
     ]
    }
   ],
   "source": [
    "# logits : [batch, class_num]\n",
    "# image_features : [batch, image_dim]\n",
    "# zeroshot_weights : [image_dim, class_num]\n",
    "# masks_class : [batch, class_num]\n",
    "\n",
    "batch = 16\n",
    "image_dim = 1024\n",
    "class_num = 10\n",
    "\n",
    "image_features = torch.rand(batch,image_dim,dtype=torch.float16)\n",
    "image_features = image_features / image_features.norm(dim=-1,keepdim=True)\n",
    "\n",
    "zeroshot_weights = torch.rand(image_dim,class_num,dtype=torch.float16)\n",
    "zeroshot_weights = zeroshot_weights / zeroshot_weights.norm(dim=-1,keepdim=True)\n",
    "\n",
    "masks_class = torch.randint(0,2,(batch, class_num),dtype=torch.float16)\n",
    "print(masks_class)\n",
    "\n",
    "# 计算方式 1\n",
    "logits1 = (image_features @ zeroshot_weights) * masks_class # 盖掉topk以外类别的prompts\n",
    "print(logits1[0])\n",
    "\n",
    "# 计算方式 2\n",
    "zeroshot_weights = zeroshot_weights.T.unsqueeze(0).repeat(batch,1,1) # [batch, class_num, image_dim]\n",
    "masks_class = masks_class.unsqueeze(2)\n",
    "batch_masked_zeroshot_weights = masks_class * zeroshot_weights # [batch, class_num, image_dim]\n",
    "batch_masked_zeroshot_weights = batch_masked_zeroshot_weights.permute(0,2,1) # [batch, image_dim, class_num]\n",
    "image_features = image_features.unsqueeze(1) # [batch, 1, image_dim]\n",
    "logits2 = image_features @ batch_masked_zeroshot_weights # [batch, 1, image_dim] @ [batch, image_dim, class_num] = [batch, 1, class_num]\n",
    "logits2 = logits2.squeeze(1) # [batch, 1, class_num]->[batch, class_num]\n",
    "print(logits2.shape)\n",
    "print(logits2[0]) # [batch, class_num]\n",
    "\n",
    "\n",
    "print(torch.sum(logits1) == torch.sum(logits2))"
   ]
  },
  {
   "cell_type": "markdown",
   "metadata": {},
   "source": [
    "# 归一化"
   ]
  },
  {
   "cell_type": "code",
   "execution_count": 22,
   "metadata": {},
   "outputs": [
    {
     "name": "stdout",
     "output_type": "stream",
     "text": [
      "tensor([0.1715, 0.3430, 0.3430, 0.8575, 0.0000, 0.0000, 0.0000, 0.0000])\n",
      "tensor([0.0160, 0.0435, 0.0435, 0.8735, 0.0059, 0.0059, 0.0059, 0.0059])\n"
     ]
    }
   ],
   "source": [
    "logits = torch.tensor([1, 2, 2, 5, 0, 0, 0, 0],dtype=torch.float32)\n",
    "norm_logits = logits / logits.norm(dim=-1,keepdim=True)\n",
    "print(norm_logits)\n",
    "\n",
    "print(torch.functional.F.softmax(logits,dim=-1))"
   ]
  },
  {
   "cell_type": "code",
   "execution_count": 23,
   "metadata": {},
   "outputs": [],
   "source": [
    "f = torch.load('/data/luowei/missing_modality/Tip-Adapter-Multi-Stage/features/imagenet_f_train.pt')"
   ]
  },
  {
   "cell_type": "code",
   "execution_count": 24,
   "metadata": {},
   "outputs": [
    {
     "name": "stdout",
     "output_type": "stream",
     "text": [
      "torch.Size([32000, 1024])\n"
     ]
    }
   ],
   "source": [
    "f = f.T\n",
    "print(f.shape)"
   ]
  },
  {
   "cell_type": "code",
   "execution_count": 25,
   "metadata": {},
   "outputs": [
    {
     "ename": "IndexError",
     "evalue": "index 1000 is out of bounds for dimension 0 with size 1000",
     "output_type": "error",
     "traceback": [
      "\u001b[0;31m---------------------------------------------------------------------------\u001b[0m",
      "\u001b[0;31mIndexError\u001b[0m                                Traceback (most recent call last)",
      "\u001b[0;32m/tmp/ipykernel_36545/2340360973.py\u001b[0m in \u001b[0;36m<module>\u001b[0;34m\u001b[0m\n\u001b[1;32m      2\u001b[0m \u001b[0mj\u001b[0m \u001b[0;34m=\u001b[0m \u001b[0;36m0\u001b[0m\u001b[0;34m\u001b[0m\u001b[0;34m\u001b[0m\u001b[0m\n\u001b[1;32m      3\u001b[0m \u001b[0;32mfor\u001b[0m \u001b[0mi\u001b[0m \u001b[0;32min\u001b[0m \u001b[0mrange\u001b[0m\u001b[0;34m(\u001b[0m\u001b[0;36m0\u001b[0m\u001b[0;34m,\u001b[0m\u001b[0mf\u001b[0m\u001b[0;34m.\u001b[0m\u001b[0mshape\u001b[0m\u001b[0;34m[\u001b[0m\u001b[0;36m0\u001b[0m\u001b[0;34m]\u001b[0m\u001b[0;34m,\u001b[0m\u001b[0;36m16\u001b[0m\u001b[0;34m)\u001b[0m\u001b[0;34m:\u001b[0m\u001b[0;34m\u001b[0m\u001b[0;34m\u001b[0m\u001b[0m\n\u001b[0;32m----> 4\u001b[0;31m     \u001b[0mnew_f\u001b[0m\u001b[0;34m[\u001b[0m\u001b[0mj\u001b[0m\u001b[0;34m]\u001b[0m \u001b[0;34m=\u001b[0m \u001b[0mtorch\u001b[0m\u001b[0;34m.\u001b[0m\u001b[0mmean\u001b[0m\u001b[0;34m(\u001b[0m\u001b[0mf\u001b[0m\u001b[0;34m[\u001b[0m\u001b[0mi\u001b[0m\u001b[0;34m:\u001b[0m\u001b[0mi\u001b[0m\u001b[0;34m+\u001b[0m\u001b[0;36m16\u001b[0m\u001b[0;34m]\u001b[0m\u001b[0;34m,\u001b[0m\u001b[0mdim\u001b[0m\u001b[0;34m=\u001b[0m\u001b[0;36m0\u001b[0m\u001b[0;34m)\u001b[0m\u001b[0;34m\u001b[0m\u001b[0;34m\u001b[0m\u001b[0m\n\u001b[0m\u001b[1;32m      5\u001b[0m     \u001b[0mj\u001b[0m\u001b[0;34m+=\u001b[0m\u001b[0;36m1\u001b[0m\u001b[0;34m\u001b[0m\u001b[0;34m\u001b[0m\u001b[0m\n\u001b[1;32m      6\u001b[0m \u001b[0mprint\u001b[0m\u001b[0;34m(\u001b[0m\u001b[0mnew_f\u001b[0m\u001b[0;34m.\u001b[0m\u001b[0mshape\u001b[0m\u001b[0;34m)\u001b[0m\u001b[0;34m\u001b[0m\u001b[0;34m\u001b[0m\u001b[0m\n",
      "\u001b[0;31mIndexError\u001b[0m: index 1000 is out of bounds for dimension 0 with size 1000"
     ]
    }
   ],
   "source": [
    "new_f = torch.zeros((1000,1024))\n",
    "j = 0\n",
    "for i in range(0,f.shape[0],16):\n",
    "    new_f[j] = torch.mean(f[i:i+16],dim=0)\n",
    "    j+=1\n",
    "print(new_f.shape)\n",
    "print(new_f)"
   ]
  },
  {
   "cell_type": "code",
   "execution_count": null,
   "metadata": {},
   "outputs": [],
   "source": [
    "torch.save(new_f,'/data/luowei/missing_modality/Tip-Adapter-Multi-Stage/features/imagenet_f_train_prototypes.pt')"
   ]
  },
  {
   "cell_type": "markdown",
   "metadata": {},
   "source": [
    "# 两种等价的normalize"
   ]
  },
  {
   "cell_type": "code",
   "execution_count": null,
   "metadata": {},
   "outputs": [
    {
     "name": "stdout",
     "output_type": "stream",
     "text": [
      "tensor([[0.2645, 0.3360, 0.2619, 0.0170, 0.3892, 0.3879, 0.1732, 0.3985, 0.3414,\n",
      "         0.3755]])\n",
      "tensor([[0.2645, 0.3360, 0.2619, 0.0170, 0.3892, 0.3879, 0.1732, 0.3985, 0.3414,\n",
      "         0.3755]])\n",
      "tensor([[0.2645, 0.3360, 0.2619, 0.0170, 0.3892, 0.3879, 0.1732, 0.3985, 0.3414,\n",
      "         0.3755]])\n",
      "tensor([[True, True, True, True, True, True, True, True, True, True]])\n",
      "tensor([[False, False, False, False, False, False, False, False, False, False]])\n"
     ]
    }
   ],
   "source": [
    "x = torch.rand(1,10)\n",
    "res1 = F.normalize(x,dim=-1)\n",
    "print(res1)\n",
    "res2 = F.normalize(res1,dim=-1)\n",
    "print(res2)\n",
    "res3 = x / x.norm(dim=-1,keepdim=True)\n",
    "print(res3)\n",
    "print(res1==res3)\n",
    "print(res2==res3)"
   ]
  },
  {
   "cell_type": "code",
   "execution_count": 46,
   "metadata": {},
   "outputs": [
    {
     "name": "stdout",
     "output_type": "stream",
     "text": [
      "torch.Size([32, 5, 1024]) torch.Size([32, 1024, 1])\n",
      "torch.Size([32, 5])\n"
     ]
    }
   ],
   "source": [
    "import torch.nn.functional as F\n",
    "a = torch.rand(32,5,1024)\n",
    "b = torch.rand(32,1024)\n",
    "a = F.normalize(a,dim=-1)\n",
    "b = F.normalize(b,dim=-1)\n",
    "b = b.unsqueeze(2)\n",
    "print(a.shape,b.shape)\n",
    "logits = (a @ b).squeeze(2)\n",
    "print(logits.shape)"
   ]
  },
  {
   "cell_type": "code",
   "execution_count": 95,
   "metadata": {},
   "outputs": [],
   "source": [
    "def find_topk_plus_one(logits:torch.Tensor, target:torch.Tensor, topK:int = 5):\n",
    "    cls_num = logits.shape[1]\n",
    "    batch = logits.shape[0]\n",
    "\n",
    "    batch_topk_indices = logits.topk(topK)[1] # [batch , topK]\n",
    "    print(f'batch_topk_indices:\\n{batch_topk_indices}')\n",
    "    \n",
    "    # 1. new target\n",
    "    new_target = [] # [batch]  , 取值0~topK\n",
    "    origin_target = [] # [batch, topK+1] , 取值0~cls_num-1\n",
    "    # 对于一个样本\n",
    "    # 如果其topk中有GT，则将其新标签定义为topK中GT的下标，然后再添加一个负prototype\n",
    "    # 如果其topK没有GT，则将其新标签定义为topK+1，然后添加GT\n",
    "    for index, topK_i in enumerate(batch_topk_indices):\n",
    "        origin_target_i = topK_i.numpy() # [topK]\n",
    "        target_i = target[index]\n",
    "        if target_i in topK_i:\n",
    "            new_target_i = ((topK_i == target_i).nonzero(as_tuple=True)[0]).item()\n",
    "            # 添加负prototype\n",
    "            while(1):\n",
    "                neg_index = np.random.randint(0,cls_num)\n",
    "                if neg_index not in topK_i:\n",
    "                    origin_target_i = np.append(origin_target_i, neg_index) # [topK] -> [topK+1]\n",
    "                    break\n",
    "        else:\n",
    "            new_target_i = topK\n",
    "            origin_target_i = np.append(origin_target_i, target_i) # [topK] -> [topK+1]\n",
    "        \n",
    "        new_target.append(new_target_i)\n",
    "        origin_target = np.append(origin_target, origin_target_i)\n",
    "    \n",
    "    return new_target, origin_target.reshape(batch,-1)"
   ]
  },
  {
   "cell_type": "code",
   "execution_count": 98,
   "metadata": {},
   "outputs": [
    {
     "name": "stdout",
     "output_type": "stream",
     "text": [
      "target:\n",
      "tensor([6, 8, 1, 4])\n",
      "batch_topk_indices:\n",
      "tensor([[0, 6, 1, 2, 8],\n",
      "        [5, 4, 2, 9, 0],\n",
      "        [3, 0, 6, 9, 4],\n",
      "        [2, 4, 0, 7, 5]])\n",
      "[1, 5, 5, 1]\n",
      "[[0. 6. 1. 2. 8. 3.]\n",
      " [5. 4. 2. 9. 0. 8.]\n",
      " [3. 0. 6. 9. 4. 1.]\n",
      " [2. 4. 0. 7. 5. 6.]]\n"
     ]
    }
   ],
   "source": [
    "batch = 4\n",
    "cls_num = 10\n",
    "topK = 5\n",
    "logits = torch.rand(batch,cls_num)\n",
    "target = torch.randint(0,cls_num,(batch,1)).view(-1)\n",
    "print(f'target:\\n{target}')\n",
    "new_target, origin_target = find_topk_plus_one(logits,target,topK)\n",
    "print(new_target)\n",
    "print(origin_target)"
   ]
  },
  {
   "cell_type": "code",
   "execution_count": 133,
   "metadata": {},
   "outputs": [],
   "source": [
    "def get_topK_plusone_protos(protos:torch.Tensor,proto_indices):\n",
    "    cls_num = protos.shape[0]\n",
    "    # proto_indices 转one-hot:\n",
    "    # proto_indices: [batch,topK+1]\n",
    "    # one_hot_proto_indices: [batch,topK+1, 1000]\n",
    "    one_hot_proto_indices = torch.zeros(proto_indices.shape[0],proto_indices.shape[1], cls_num)\n",
    "    for i,indices in enumerate(proto_indices):\n",
    "        for j,index in enumerate(indices):\n",
    "            one_hot_proto_indices[i][j][index] = 1\n",
    "    # print(one_hot_proto_indices)\n",
    "    # topK_plusone_protos \n",
    "    topK_plusone_protos = one_hot_proto_indices @ protos # [batch,topK+1, 1000] @ [batch,1000, 1024] -> [batch,topK+1, 1024]\n",
    "    return topK_plusone_protos"
   ]
  },
  {
   "cell_type": "code",
   "execution_count": 136,
   "metadata": {},
   "outputs": [
    {
     "name": "stdout",
     "output_type": "stream",
     "text": [
      "indices.shape:\n",
      "torch.Size([4, 2])\n",
      "protos.shape:\n",
      "torch.Size([5, 6])\n",
      "protos:\n",
      "tensor([[0.8831, 0.0087, 0.1457, 0.1858, 0.8220, 0.8726],\n",
      "        [0.8454, 0.9310, 0.2944, 0.3338, 0.3119, 0.0689],\n",
      "        [0.2317, 0.9531, 0.1098, 0.2313, 0.4860, 0.7360],\n",
      "        [0.9464, 0.3673, 0.5494, 0.1571, 0.7110, 0.0395],\n",
      "        [0.4934, 0.1225, 0.8613, 0.3045, 0.3627, 0.5293]])\n",
      "indices\n",
      ":tensor([[3, 1],\n",
      "        [2, 1],\n",
      "        [3, 4],\n",
      "        [4, 4]])\n",
      "topK_plusone_protos:\n",
      "tensor([[[0.9464, 0.3673, 0.5494, 0.1571, 0.7110, 0.0395],\n",
      "         [0.8454, 0.9310, 0.2944, 0.3338, 0.3119, 0.0689]],\n",
      "\n",
      "        [[0.2317, 0.9531, 0.1098, 0.2313, 0.4860, 0.7360],\n",
      "         [0.8454, 0.9310, 0.2944, 0.3338, 0.3119, 0.0689]],\n",
      "\n",
      "        [[0.9464, 0.3673, 0.5494, 0.1571, 0.7110, 0.0395],\n",
      "         [0.4934, 0.1225, 0.8613, 0.3045, 0.3627, 0.5293]],\n",
      "\n",
      "        [[0.4934, 0.1225, 0.8613, 0.3045, 0.3627, 0.5293],\n",
      "         [0.4934, 0.1225, 0.8613, 0.3045, 0.3627, 0.5293]]])\n",
      "topK_plusone_protos.shape:\n",
      "torch.Size([4, 2, 6])\n"
     ]
    }
   ],
   "source": [
    "cls_num = 5\n",
    "dim = 6\n",
    "batch = 4\n",
    "k = 5\n",
    "protos = torch.rand(cls_num,dim)\n",
    "indices = torch.randint(0,cls_num,(batch,2))\n",
    "\n",
    "topK_plusone_protos = get_topK_plusone_protos(protos,indices)\n",
    "print(f'indices.shape:\\n{indices.shape}')\n",
    "print(f'protos.shape:\\n{protos.shape}')\n",
    "print(f'protos:\\n{protos}')\n",
    "print(f'indices\\n:{indices}')\n",
    "print(f'topK_plusone_protos:\\n{topK_plusone_protos}')\n",
    "print(f'topK_plusone_protos.shape:\\n{topK_plusone_protos.shape}')"
   ]
  }
 ],
 "metadata": {
  "interpreter": {
   "hash": "952a9237107f23337e2cf64b27dea29cd0600c26eb7b44c973b3922fe2f0ed3b"
  },
  "kernelspec": {
   "display_name": "Python 3.7.11 ('wav2clip_env')",
   "language": "python",
   "name": "python3"
  },
  "language_info": {
   "codemirror_mode": {
    "name": "ipython",
    "version": 3
   },
   "file_extension": ".py",
   "mimetype": "text/x-python",
   "name": "python",
   "nbconvert_exporter": "python",
   "pygments_lexer": "ipython3",
   "version": "3.7.11"
  },
  "orig_nbformat": 4
 },
 "nbformat": 4,
 "nbformat_minor": 2
}
