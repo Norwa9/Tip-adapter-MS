{
 "cells": [
  {
   "cell_type": "code",
   "execution_count": 8,
   "metadata": {},
   "outputs": [],
   "source": [
    "import numpy as np\n",
    "import torch\n",
    "from MultiStage.util import *"
   ]
  },
  {
   "cell_type": "markdown",
   "metadata": {},
   "source": [
    "# 测试 is_corase_class 函数"
   ]
  },
  {
   "cell_type": "code",
   "execution_count": 9,
   "metadata": {},
   "outputs": [
    {
     "name": "stdout",
     "output_type": "stream",
     "text": [
      "tensor([[[0.8027, 0.9865, 0.5028],\n",
      "         [0.0355, 0.5941, 0.9246]],\n",
      "\n",
      "        [[0.1714, 0.5659, 0.9458],\n",
      "         [0.4226, 0.4026, 0.9660]],\n",
      "\n",
      "        [[0.0529, 0.6996, 0.7588],\n",
      "         [0.0880, 0.5773, 0.9667]],\n",
      "\n",
      "        [[0.2857, 0.5053, 0.3797],\n",
      "         [0.5063, 0.4789, 0.0198]]])\n",
      "tensor([[[0.5869, 0.7214, 0.3676],\n",
      "         [0.0323, 0.5403, 0.8409]],\n",
      "\n",
      "        [[0.1537, 0.5074, 0.8479],\n",
      "         [0.3744, 0.3567, 0.8559]],\n",
      "\n",
      "        [[0.0512, 0.6770, 0.7342],\n",
      "         [0.0779, 0.5111, 0.8560]],\n",
      "\n",
      "        [[0.4120, 0.7285, 0.5473],\n",
      "         [0.7262, 0.6869, 0.0284]]])\n"
     ]
    }
   ],
   "source": [
    "x = torch.rand(4,2,3)  # [batch, k, 1024]\n",
    "print(x)\n",
    "x = x / x.norm(dim=-1, keepdim=True)\n",
    "print(x)"
   ]
  },
  {
   "cell_type": "code",
   "execution_count": null,
   "metadata": {},
   "outputs": [],
   "source": []
  },
  {
   "cell_type": "code",
   "execution_count": 10,
   "metadata": {},
   "outputs": [
    {
     "name": "stdout",
     "output_type": "stream",
     "text": [
      "logits.topk(5)[1]:\n",
      "\t tensor([[8, 5, 1, 2, 6],\n",
      "        [7, 0, 5, 2, 4],\n",
      "        [7, 4, 3, 0, 6],\n",
      "        [3, 8, 7, 1, 5]])\n",
      "target:\n",
      "\t tensor([3, 2, 2, 1])\n",
      "tensor([2, 1])\n"
     ]
    }
   ],
   "source": [
    "\n",
    "logits = torch.rand(4,10)\n",
    "target = torch.randint(0,5,(4,1)).view(-1)\n",
    "print('logits.topk(5)[1]:\\n\\t',logits.topk(5)[1])\n",
    "print('target:\\n\\t',target)\n",
    "print(is_corase_class(logits,target,5))"
   ]
  },
  {
   "cell_type": "code",
   "execution_count": null,
   "metadata": {},
   "outputs": [],
   "source": []
  },
  {
   "cell_type": "markdown",
   "metadata": {},
   "source": [
    "# list"
   ]
  },
  {
   "cell_type": "code",
   "execution_count": 11,
   "metadata": {},
   "outputs": [
    {
     "data": {
      "text/plain": [
       "torch.return_types.topk(\n",
       "values=tensor([0, 0, 0, 0, 0, 0, 0, 0, 0, 0]),\n",
       "indices=tensor([8, 9, 4, 7, 5, 3, 1, 0, 2, 6]))"
      ]
     },
     "execution_count": 11,
     "metadata": {},
     "output_type": "execute_result"
    }
   ],
   "source": [
    "l = torch.zeros(1000,dtype=torch.long)\n",
    "l.topk(10)"
   ]
  },
  {
   "cell_type": "markdown",
   "metadata": {},
   "source": [
    "# imageNet class"
   ]
  },
  {
   "cell_type": "code",
   "execution_count": 12,
   "metadata": {},
   "outputs": [],
   "source": [
    "imagenet_classes = [\"tench\", \"goldfish\", \"great white shark\", \"tiger shark\", \"hammerhead shark\", \"electric ray\",\n",
    "                        \"stingray\", \"rooster\", \"hen\", \"ostrich\", \"brambling\", \"goldfinch\", \"house finch\", \"junco\",\n",
    "                        \"indigo bunting\", \"American robin\", \"bulbul\", \"jay\", \"magpie\", \"chickadee\", \"American dipper\",\n",
    "                        \"kite (bird of prey)\", \"bald eagle\", \"vulture\", \"great grey owl\", \"fire salamander\",\n",
    "                        \"smooth newt\", \"newt\", \"spotted salamander\", \"axolotl\", \"American bullfrog\", \"tree frog\",\n",
    "                        \"tailed frog\", \"loggerhead sea turtle\", \"leatherback sea turtle\", \"mud turtle\", \"terrapin\",\n",
    "                        \"box turtle\", \"banded gecko\", \"green iguana\", \"Carolina anole\",\n",
    "                        \"desert grassland whiptail lizard\", \"agama\", \"frilled-necked lizard\", \"alligator lizard\",\n",
    "                        \"Gila monster\", \"European green lizard\", \"chameleon\", \"Komodo dragon\", \"Nile crocodile\",\n",
    "                        \"American alligator\", \"triceratops\", \"worm snake\", \"ring-necked snake\",\n",
    "                        \"eastern hog-nosed snake\", \"smooth green snake\", \"kingsnake\", \"garter snake\", \"water snake\",\n",
    "                        \"vine snake\", \"night snake\", \"boa constrictor\", \"African rock python\", \"Indian cobra\",\n",
    "                        \"green mamba\", \"sea snake\", \"Saharan horned viper\", \"eastern diamondback rattlesnake\",\n",
    "                        \"sidewinder rattlesnake\", \"trilobite\", \"harvestman\", \"scorpion\", \"yellow garden spider\",\n",
    "                        \"barn spider\", \"European garden spider\", \"southern black widow\", \"tarantula\", \"wolf spider\",\n",
    "                        \"tick\", \"centipede\", \"black grouse\", \"ptarmigan\", \"ruffed grouse\", \"prairie grouse\", \"peafowl\",\n",
    "                        \"quail\", \"partridge\", \"african grey parrot\", \"macaw\", \"sulphur-crested cockatoo\", \"lorikeet\",\n",
    "                        \"coucal\", \"bee eater\", \"hornbill\", \"hummingbird\", \"jacamar\", \"toucan\", \"duck\",\n",
    "                        \"red-breasted merganser\", \"goose\", \"black swan\", \"tusker\", \"echidna\", \"platypus\", \"wallaby\",\n",
    "                        \"koala\", \"wombat\", \"jellyfish\", \"sea anemone\", \"brain coral\", \"flatworm\", \"nematode\", \"conch\",\n",
    "                        \"snail\", \"slug\", \"sea slug\", \"chiton\", \"chambered nautilus\", \"Dungeness crab\", \"rock crab\",\n",
    "                        \"fiddler crab\", \"red king crab\", \"American lobster\", \"spiny lobster\", \"crayfish\", \"hermit crab\",\n",
    "                        \"isopod\", \"white stork\", \"black stork\", \"spoonbill\", \"flamingo\", \"little blue heron\",\n",
    "                        \"great egret\", \"bittern bird\", \"crane bird\", \"limpkin\", \"common gallinule\", \"American coot\",\n",
    "                        \"bustard\", \"ruddy turnstone\", \"dunlin\", \"common redshank\", \"dowitcher\", \"oystercatcher\",\n",
    "                        \"pelican\", \"king penguin\", \"albatross\", \"grey whale\", \"killer whale\", \"dugong\", \"sea lion\",\n",
    "                        \"Chihuahua\", \"Japanese Chin\", \"Maltese\", \"Pekingese\", \"Shih Tzu\", \"King Charles Spaniel\",\n",
    "                        \"Papillon\", \"toy terrier\", \"Rhodesian Ridgeback\", \"Afghan Hound\", \"Basset Hound\", \"Beagle\",\n",
    "                        \"Bloodhound\", \"Bluetick Coonhound\", \"Black and Tan Coonhound\", \"Treeing Walker Coonhound\",\n",
    "                        \"English foxhound\", \"Redbone Coonhound\", \"borzoi\", \"Irish Wolfhound\", \"Italian Greyhound\",\n",
    "                        \"Whippet\", \"Ibizan Hound\", \"Norwegian Elkhound\", \"Otterhound\", \"Saluki\", \"Scottish Deerhound\",\n",
    "                        \"Weimaraner\", \"Staffordshire Bull Terrier\", \"American Staffordshire Terrier\",\n",
    "                        \"Bedlington Terrier\", \"Border Terrier\", \"Kerry Blue Terrier\", \"Irish Terrier\",\n",
    "                        \"Norfolk Terrier\", \"Norwich Terrier\", \"Yorkshire Terrier\", \"Wire Fox Terrier\",\n",
    "                        \"Lakeland Terrier\", \"Sealyham Terrier\", \"Airedale Terrier\", \"Cairn Terrier\",\n",
    "                        \"Australian Terrier\", \"Dandie Dinmont Terrier\", \"Boston Terrier\", \"Miniature Schnauzer\",\n",
    "                        \"Giant Schnauzer\", \"Standard Schnauzer\", \"Scottish Terrier\", \"Tibetan Terrier\",\n",
    "                        \"Australian Silky Terrier\", \"Soft-coated Wheaten Terrier\", \"West Highland White Terrier\",\n",
    "                        \"Lhasa Apso\", \"Flat-Coated Retriever\", \"Curly-coated Retriever\", \"Golden Retriever\",\n",
    "                        \"Labrador Retriever\", \"Chesapeake Bay Retriever\", \"German Shorthaired Pointer\", \"Vizsla\",\n",
    "                        \"English Setter\", \"Irish Setter\", \"Gordon Setter\", \"Brittany dog\", \"Clumber Spaniel\",\n",
    "                        \"English Springer Spaniel\", \"Welsh Springer Spaniel\", \"Cocker Spaniel\", \"Sussex Spaniel\",\n",
    "                        \"Irish Water Spaniel\", \"Kuvasz\", \"Schipperke\", \"Groenendael dog\", \"Malinois\", \"Briard\",\n",
    "                        \"Australian Kelpie\", \"Komondor\", \"Old English Sheepdog\", \"Shetland Sheepdog\", \"collie\",\n",
    "                        \"Border Collie\", \"Bouvier des Flandres dog\", \"Rottweiler\", \"German Shepherd Dog\", \"Dobermann\",\n",
    "                        \"Miniature Pinscher\", \"Greater Swiss Mountain Dog\", \"Bernese Mountain Dog\",\n",
    "                        \"Appenzeller Sennenhund\", \"Entlebucher Sennenhund\", \"Boxer\", \"Bullmastiff\", \"Tibetan Mastiff\",\n",
    "                        \"French Bulldog\", \"Great Dane\", \"St. Bernard\", \"husky\", \"Alaskan Malamute\", \"Siberian Husky\",\n",
    "                        \"Dalmatian\", \"Affenpinscher\", \"Basenji\", \"pug\", \"Leonberger\", \"Newfoundland dog\",\n",
    "                        \"Great Pyrenees dog\", \"Samoyed\", \"Pomeranian\", \"Chow Chow\", \"Keeshond\", \"brussels griffon\",\n",
    "                        \"Pembroke Welsh Corgi\", \"Cardigan Welsh Corgi\", \"Toy Poodle\", \"Miniature Poodle\",\n",
    "                        \"Standard Poodle\", \"Mexican hairless dog (xoloitzcuintli)\", \"grey wolf\", \"Alaskan tundra wolf\",\n",
    "                        \"red wolf or maned wolf\", \"coyote\", \"dingo\", \"dhole\", \"African wild dog\", \"hyena\", \"red fox\",\n",
    "                        \"kit fox\", \"Arctic fox\", \"grey fox\", \"tabby cat\", \"tiger cat\", \"Persian cat\", \"Siamese cat\",\n",
    "                        \"Egyptian Mau\", \"cougar\", \"lynx\", \"leopard\", \"snow leopard\", \"jaguar\", \"lion\", \"tiger\",\n",
    "                        \"cheetah\", \"brown bear\", \"American black bear\", \"polar bear\", \"sloth bear\", \"mongoose\",\n",
    "                        \"meerkat\", \"tiger beetle\", \"ladybug\", \"ground beetle\", \"longhorn beetle\", \"leaf beetle\",\n",
    "                        \"dung beetle\", \"rhinoceros beetle\", \"weevil\", \"fly\", \"bee\", \"ant\", \"grasshopper\",\n",
    "                        \"cricket insect\", \"stick insect\", \"cockroach\", \"praying mantis\", \"cicada\", \"leafhopper\",\n",
    "                        \"lacewing\", \"dragonfly\", \"damselfly\", \"red admiral butterfly\", \"ringlet butterfly\",\n",
    "                        \"monarch butterfly\", \"small white butterfly\", \"sulphur butterfly\", \"gossamer-winged butterfly\",\n",
    "                        \"starfish\", \"sea urchin\", \"sea cucumber\", \"cottontail rabbit\", \"hare\", \"Angora rabbit\",\n",
    "                        \"hamster\", \"porcupine\", \"fox squirrel\", \"marmot\", \"beaver\", \"guinea pig\", \"common sorrel horse\",\n",
    "                        \"zebra\", \"pig\", \"wild boar\", \"warthog\", \"hippopotamus\", \"ox\", \"water buffalo\", \"bison\",\n",
    "                        \"ram (adult male sheep)\", \"bighorn sheep\", \"Alpine ibex\", \"hartebeest\", \"impala (antelope)\",\n",
    "                        \"gazelle\", \"arabian camel\", \"llama\", \"weasel\", \"mink\", \"European polecat\",\n",
    "                        \"black-footed ferret\", \"otter\", \"skunk\", \"badger\", \"armadillo\", \"three-toed sloth\", \"orangutan\",\n",
    "                        \"gorilla\", \"chimpanzee\", \"gibbon\", \"siamang\", \"guenon\", \"patas monkey\", \"baboon\", \"macaque\",\n",
    "                        \"langur\", \"black-and-white colobus\", \"proboscis monkey\", \"marmoset\", \"white-headed capuchin\",\n",
    "                        \"howler monkey\", \"titi monkey\", \"Geoffroy's spider monkey\", \"common squirrel monkey\",\n",
    "                        \"ring-tailed lemur\", \"indri\", \"Asian elephant\", \"African bush elephant\", \"red panda\",\n",
    "                        \"giant panda\", \"snoek fish\", \"eel\", \"silver salmon\", \"rock beauty fish\", \"clownfish\",\n",
    "                        \"sturgeon\", \"gar fish\", \"lionfish\", \"pufferfish\", \"abacus\", \"abaya\", \"academic gown\",\n",
    "                        \"accordion\", \"acoustic guitar\", \"aircraft carrier\", \"airliner\", \"airship\", \"altar\", \"ambulance\",\n",
    "                        \"amphibious vehicle\", \"analog clock\", \"apiary\", \"apron\", \"trash can\", \"assault rifle\",\n",
    "                        \"backpack\", \"bakery\", \"balance beam\", \"balloon\", \"ballpoint pen\", \"Band-Aid\", \"banjo\",\n",
    "                        \"baluster / handrail\", \"barbell\", \"barber chair\", \"barbershop\", \"barn\", \"barometer\", \"barrel\",\n",
    "                        \"wheelbarrow\", \"baseball\", \"basketball\", \"bassinet\", \"bassoon\", \"swimming cap\", \"bath towel\",\n",
    "                        \"bathtub\", \"station wagon\", \"lighthouse\", \"beaker\", \"military hat (bearskin or shako)\",\n",
    "                        \"beer bottle\", \"beer glass\", \"bell tower\", \"baby bib\", \"tandem bicycle\", \"bikini\",\n",
    "                        \"ring binder\", \"binoculars\", \"birdhouse\", \"boathouse\", \"bobsleigh\", \"bolo tie\", \"poke bonnet\",\n",
    "                        \"bookcase\", \"bookstore\", \"bottle cap\", \"hunting bow\", \"bow tie\", \"brass memorial plaque\", \"bra\",\n",
    "                        \"breakwater\", \"breastplate\", \"broom\", \"bucket\", \"buckle\", \"bulletproof vest\",\n",
    "                        \"high-speed train\", \"butcher shop\", \"taxicab\", \"cauldron\", \"candle\", \"cannon\", \"canoe\",\n",
    "                        \"can opener\", \"cardigan\", \"car mirror\", \"carousel\", \"tool kit\", \"cardboard box / carton\",\n",
    "                        \"car wheel\", \"automated teller machine\", \"cassette\", \"cassette player\", \"castle\", \"catamaran\",\n",
    "                        \"CD player\", \"cello\", \"mobile phone\", \"chain\", \"chain-link fence\", \"chain mail\", \"chainsaw\",\n",
    "                        \"storage chest\", \"chiffonier\", \"bell or wind chime\", \"china cabinet\", \"Christmas stocking\",\n",
    "                        \"church\", \"movie theater\", \"cleaver\", \"cliff dwelling\", \"cloak\", \"clogs\", \"cocktail shaker\",\n",
    "                        \"coffee mug\", \"coffeemaker\", \"spiral or coil\", \"combination lock\", \"computer keyboard\",\n",
    "                        \"candy store\", \"container ship\", \"convertible\", \"corkscrew\", \"cornet\", \"cowboy boot\",\n",
    "                        \"cowboy hat\", \"cradle\", \"construction crane\", \"crash helmet\", \"crate\", \"infant bed\",\n",
    "                        \"Crock Pot\", \"croquet ball\", \"crutch\", \"cuirass\", \"dam\", \"desk\", \"desktop computer\",\n",
    "                        \"rotary dial telephone\", \"diaper\", \"digital clock\", \"digital watch\", \"dining table\",\n",
    "                        \"dishcloth\", \"dishwasher\", \"disc brake\", \"dock\", \"dog sled\", \"dome\", \"doormat\", \"drilling rig\",\n",
    "                        \"drum\", \"drumstick\", \"dumbbell\", \"Dutch oven\", \"electric fan\", \"electric guitar\",\n",
    "                        \"electric locomotive\", \"entertainment center\", \"envelope\", \"espresso machine\", \"face powder\",\n",
    "                        \"feather boa\", \"filing cabinet\", \"fireboat\", \"fire truck\", \"fire screen\", \"flagpole\", \"flute\",\n",
    "                        \"folding chair\", \"football helmet\", \"forklift\", \"fountain\", \"fountain pen\", \"four-poster bed\",\n",
    "                        \"freight car\", \"French horn\", \"frying pan\", \"fur coat\", \"garbage truck\",\n",
    "                        \"gas mask or respirator\", \"gas pump\", \"goblet\", \"go-kart\", \"golf ball\", \"golf cart\", \"gondola\",\n",
    "                        \"gong\", \"gown\", \"grand piano\", \"greenhouse\", \"radiator grille\", \"grocery store\", \"guillotine\",\n",
    "                        \"hair clip\", \"hair spray\", \"half-track\", \"hammer\", \"hamper\", \"hair dryer\", \"hand-held computer\",\n",
    "                        \"handkerchief\", \"hard disk drive\", \"harmonica\", \"harp\", \"combine harvester\", \"hatchet\",\n",
    "                        \"holster\", \"home theater\", \"honeycomb\", \"hook\", \"hoop skirt\", \"gymnastic horizontal bar\",\n",
    "                        \"horse-drawn vehicle\", \"hourglass\", \"iPod\", \"clothes iron\", \"carved pumpkin\", \"jeans\", \"jeep\",\n",
    "                        \"T-shirt\", \"jigsaw puzzle\", \"rickshaw\", \"joystick\", \"kimono\", \"knee pad\", \"knot\", \"lab coat\",\n",
    "                        \"ladle\", \"lampshade\", \"laptop computer\", \"lawn mower\", \"lens cap\", \"letter opener\", \"library\",\n",
    "                        \"lifeboat\", \"lighter\", \"limousine\", \"ocean liner\", \"lipstick\", \"slip-on shoe\", \"lotion\",\n",
    "                        \"music speaker\", \"loupe magnifying glass\", \"sawmill\", \"magnetic compass\", \"messenger bag\",\n",
    "                        \"mailbox\", \"tights\", \"one-piece bathing suit\", \"manhole cover\", \"maraca\", \"marimba\", \"mask\",\n",
    "                        \"matchstick\", \"maypole\", \"maze\", \"measuring cup\", \"medicine cabinet\", \"megalith\", \"microphone\",\n",
    "                        \"microwave oven\", \"military uniform\", \"milk can\", \"minibus\", \"miniskirt\", \"minivan\", \"missile\",\n",
    "                        \"mitten\", \"mixing bowl\", \"mobile home\", \"ford model t\", \"modem\", \"monastery\", \"monitor\",\n",
    "                        \"moped\", \"mortar and pestle\", \"graduation cap\", \"mosque\", \"mosquito net\", \"vespa\",\n",
    "                        \"mountain bike\", \"tent\", \"computer mouse\", \"mousetrap\", \"moving van\", \"muzzle\", \"metal nail\",\n",
    "                        \"neck brace\", \"necklace\", \"baby pacifier\", \"notebook computer\", \"obelisk\", \"oboe\", \"ocarina\",\n",
    "                        \"odometer\", \"oil filter\", \"pipe organ\", \"oscilloscope\", \"overskirt\", \"bullock cart\",\n",
    "                        \"oxygen mask\", \"product packet / packaging\", \"paddle\", \"paddle wheel\", \"padlock\", \"paintbrush\",\n",
    "                        \"pajamas\", \"palace\", \"pan flute\", \"paper towel\", \"parachute\", \"parallel bars\", \"park bench\",\n",
    "                        \"parking meter\", \"railroad car\", \"patio\", \"payphone\", \"pedestal\", \"pencil case\",\n",
    "                        \"pencil sharpener\", \"perfume\", \"Petri dish\", \"photocopier\", \"plectrum\", \"Pickelhaube\",\n",
    "                        \"picket fence\", \"pickup truck\", \"pier\", \"piggy bank\", \"pill bottle\", \"pillow\", \"ping-pong ball\",\n",
    "                        \"pinwheel\", \"pirate ship\", \"drink pitcher\", \"block plane\", \"planetarium\", \"plastic bag\",\n",
    "                        \"plate rack\", \"farm plow\", \"plunger\", \"Polaroid camera\", \"pole\", \"police van\", \"poncho\",\n",
    "                        \"pool table\", \"soda bottle\", \"plant pot\", \"potter's wheel\", \"power drill\", \"prayer rug\",\n",
    "                        \"printer\", \"prison\", \"missile\", \"projector\", \"hockey puck\", \"punching bag\", \"purse\", \"quill\",\n",
    "                        \"quilt\", \"race car\", \"racket\", \"radiator\", \"radio\", \"radio telescope\", \"rain barrel\",\n",
    "                        \"recreational vehicle\", \"fishing casting reel\", \"reflex camera\", \"refrigerator\",\n",
    "                        \"remote control\", \"restaurant\", \"revolver\", \"rifle\", \"rocking chair\", \"rotisserie\", \"eraser\",\n",
    "                        \"rugby ball\", \"ruler measuring stick\", \"sneaker\", \"safe\", \"safety pin\", \"salt shaker\", \"sandal\",\n",
    "                        \"sarong\", \"saxophone\", \"scabbard\", \"weighing scale\", \"school bus\", \"schooner\", \"scoreboard\",\n",
    "                        \"CRT monitor\", \"screw\", \"screwdriver\", \"seat belt\", \"sewing machine\", \"shield\", \"shoe store\",\n",
    "                        \"shoji screen / room divider\", \"shopping basket\", \"shopping cart\", \"shovel\", \"shower cap\",\n",
    "                        \"shower curtain\", \"ski\", \"balaclava ski mask\", \"sleeping bag\", \"slide rule\", \"sliding door\",\n",
    "                        \"slot machine\", \"snorkel\", \"snowmobile\", \"snowplow\", \"soap dispenser\", \"soccer ball\", \"sock\",\n",
    "                        \"solar thermal collector\", \"sombrero\", \"soup bowl\", \"keyboard space bar\", \"space heater\",\n",
    "                        \"space shuttle\", \"spatula\", \"motorboat\", \"spider web\", \"spindle\", \"sports car\", \"spotlight\",\n",
    "                        \"stage\", \"steam locomotive\", \"through arch bridge\", \"steel drum\", \"stethoscope\", \"scarf\",\n",
    "                        \"stone wall\", \"stopwatch\", \"stove\", \"strainer\", \"tram\", \"stretcher\", \"couch\", \"stupa\",\n",
    "                        \"submarine\", \"suit\", \"sundial\", \"sunglasses\", \"sunglasses\", \"sunscreen\", \"suspension bridge\",\n",
    "                        \"mop\", \"sweatshirt\", \"swim trunks / shorts\", \"swing\", \"electrical switch\", \"syringe\",\n",
    "                        \"table lamp\", \"tank\", \"tape player\", \"teapot\", \"teddy bear\", \"television\", \"tennis ball\",\n",
    "                        \"thatched roof\", \"front curtain\", \"thimble\", \"threshing machine\", \"throne\", \"tile roof\",\n",
    "                        \"toaster\", \"tobacco shop\", \"toilet seat\", \"torch\", \"totem pole\", \"tow truck\", \"toy store\",\n",
    "                        \"tractor\", \"semi-trailer truck\", \"tray\", \"trench coat\", \"tricycle\", \"trimaran\", \"tripod\",\n",
    "                        \"triumphal arch\", \"trolleybus\", \"trombone\", \"hot tub\", \"turnstile\", \"typewriter keyboard\",\n",
    "                        \"umbrella\", \"unicycle\", \"upright piano\", \"vacuum cleaner\", \"vase\", \"vaulted or arched ceiling\",\n",
    "                        \"velvet fabric\", \"vending machine\", \"vestment\", \"viaduct\", \"violin\", \"volleyball\",\n",
    "                        \"waffle iron\", \"wall clock\", \"wallet\", \"wardrobe\", \"military aircraft\", \"sink\",\n",
    "                        \"washing machine\", \"water bottle\", \"water jug\", \"water tower\", \"whiskey jug\", \"whistle\",\n",
    "                        \"hair wig\", \"window screen\", \"window shade\", \"Windsor tie\", \"wine bottle\", \"airplane wing\",\n",
    "                        \"wok\", \"wooden spoon\", \"wool\", \"split-rail fence\", \"shipwreck\", \"sailboat\", \"yurt\", \"website\",\n",
    "                        \"comic book\", \"crossword\", \"traffic or street sign\", \"traffic light\", \"dust jacket\", \"menu\",\n",
    "                        \"plate\", \"guacamole\", \"consomme\", \"hot pot\", \"trifle\", \"ice cream\", \"popsicle\", \"baguette\",\n",
    "                        \"bagel\", \"pretzel\", \"cheeseburger\", \"hot dog\", \"mashed potatoes\", \"cabbage\", \"broccoli\",\n",
    "                        \"cauliflower\", \"zucchini\", \"spaghetti squash\", \"acorn squash\", \"butternut squash\", \"cucumber\",\n",
    "                        \"artichoke\", \"bell pepper\", \"cardoon\", \"mushroom\", \"Granny Smith apple\", \"strawberry\", \"orange\",\n",
    "                        \"lemon\", \"fig\", \"pineapple\", \"banana\", \"jackfruit\", \"cherimoya (custard apple)\", \"pomegranate\",\n",
    "                        \"hay\", \"carbonara\", \"chocolate syrup\", \"dough\", \"meatloaf\", \"pizza\", \"pot pie\", \"burrito\",\n",
    "                        \"red wine\", \"espresso\", \"tea cup\", \"eggnog\", \"mountain\", \"bubble\", \"cliff\", \"coral reef\",\n",
    "                        \"geyser\", \"lakeshore\", \"promontory\", \"sandbar\", \"beach\", \"valley\", \"volcano\", \"baseball player\",\n",
    "                        \"bridegroom\", \"scuba diver\", \"rapeseed\", \"daisy\", \"yellow lady's slipper\", \"corn\", \"acorn\",\n",
    "                        \"rose hip\", \"horse chestnut seed\", \"coral fungus\", \"agaric\", \"gyromitra\", \"stinkhorn mushroom\",\n",
    "                        \"earth star fungus\", \"hen of the woods mushroom\", \"bolete\", \"corn cob\", \"toilet paper\"]"
   ]
  },
  {
   "cell_type": "code",
   "execution_count": 13,
   "metadata": {},
   "outputs": [
    {
     "name": "stdout",
     "output_type": "stream",
     "text": [
      "sidewinder rattlesnake\n"
     ]
    }
   ],
   "source": [
    "print(imagenet_classes[68])"
   ]
  },
  {
   "cell_type": "code",
   "execution_count": 14,
   "metadata": {},
   "outputs": [
    {
     "name": "stdout",
     "output_type": "stream",
     "text": [
      "1000\n",
      "torch.return_types.topk(\n",
      "values=tensor([11, 10,  9,  9,  8,  8,  8,  7,  7,  7,  7,  7,  7,  7,  7,  7,  7,  7,\n",
      "         7,  6,  6,  6,  6,  6,  6,  6,  6,  6,  6,  6,  6,  6,  6,  6,  6,  6,\n",
      "         6,  6,  6,  6,  6,  6,  6,  6,  6,  5,  5,  5,  5,  5,  5,  5,  5,  5,\n",
      "         5,  5,  5,  5,  5,  5,  5,  5,  5,  5,  5,  5,  5,  5,  5,  5,  5,  5,\n",
      "         5,  5,  5,  5,  5,  5,  5,  5,  5,  5,  5,  5,  5,  5,  5,  5,  5,  5,\n",
      "         5,  5,  5,  5,  5,  5,  5,  5,  5,  5]),\n",
      "indices=tensor([380, 240, 516,  66, 157, 840,  54, 526,  73, 733,  68, 222, 219, 567,\n",
      "        304, 418, 469, 342, 487, 408, 663, 826, 664, 241, 246, 725, 381, 845,\n",
      "        848, 749, 512, 153, 173, 488, 527, 189, 542, 893, 748, 438, 231, 947,\n",
      "        461, 204, 193, 647, 220, 730, 227, 596, 229, 810,  86, 373, 631, 644,\n",
      "        421, 419, 584, 885, 744, 256, 264, 618, 266, 282, 662, 262, 267,  26,\n",
      "        636, 883, 771, 318, 341, 910, 911, 164, 134, 187, 348, 192, 777, 194,\n",
      "        200, 305, 390, 689, 163, 509, 112, 207, 999, 767, 585, 578, 452, 215,\n",
      "        790, 813]))\n",
      "0\n"
     ]
    }
   ],
   "source": [
    "topK_corase_classes_list = torch.load('/data/luowei/missing_modality/Tip-Adapter-Multi-Stage/checkpoints/classed_indices.pt')\n",
    "print(len(topK_corase_classes_list))\n",
    "print(topK_corase_classes_list.topk(100))\n",
    "\n",
    "top100 = topK_corase_classes_list.topk(100)[1]\n",
    "\n",
    "if 60 in topK_corase_classes_list.topk(100)[1]:\n",
    "    print('1')\n",
    "else:\n",
    "    print(0)\n"
   ]
  },
  {
   "cell_type": "markdown",
   "metadata": {},
   "source": [
    "# save tensor"
   ]
  },
  {
   "cell_type": "code",
   "execution_count": 15,
   "metadata": {},
   "outputs": [
    {
     "name": "stdout",
     "output_type": "stream",
     "text": [
      "torch.Size([2, 3])\n",
      "torch.Size([3, 2])\n"
     ]
    }
   ],
   "source": [
    "path = '/data/luowei/missing_modality/Tip-Adapter-Multi-Stage/checkpoints/test.pt'\n",
    "a = torch.tensor([[1,2,3],[1,2,3]])\n",
    "torch.save(a,path)\n",
    "\n",
    "b = torch.load(path)\n",
    "print(b.shape)\n",
    "b = b.T\n",
    "print(b.shape)\n"
   ]
  },
  {
   "cell_type": "markdown",
   "metadata": {},
   "source": [
    "# 矩阵相乘"
   ]
  },
  {
   "cell_type": "code",
   "execution_count": 16,
   "metadata": {},
   "outputs": [
    {
     "name": "stdout",
     "output_type": "stream",
     "text": [
      "torch.Size([2, 4])\n",
      "tensor([[1.3339, 1.2254, 0.1400, 1.0686],\n",
      "        [1.0203, 1.2675, 0.7118, 1.2058]])\n"
     ]
    }
   ],
   "source": [
    "a = torch.rand(2,3,4)\n",
    "b = torch.rand(2,3)\n",
    "b = b.unsqueeze(1)\n",
    "# print(a)\n",
    "# print(b)\n",
    "res = b @ a\n",
    "# res = torch.matmul(b,a)\n",
    "res = res.squeeze(1)\n",
    "print(res.shape)\n",
    "print(res)"
   ]
  },
  {
   "cell_type": "code",
   "execution_count": 17,
   "metadata": {},
   "outputs": [
    {
     "name": "stdout",
     "output_type": "stream",
     "text": [
      "torch.Size([5, 3, 2])\n"
     ]
    }
   ],
   "source": [
    "a = torch.ones(3,4)\n",
    "b = torch.ones(5,4,2)\n",
    "res = torch.matmul(a, b)\n",
    "print(res.shape)"
   ]
  },
  {
   "cell_type": "markdown",
   "metadata": {},
   "source": [
    "# list获取元素下标"
   ]
  },
  {
   "cell_type": "code",
   "execution_count": 18,
   "metadata": {},
   "outputs": [
    {
     "name": "stdout",
     "output_type": "stream",
     "text": [
      "1\n",
      "3\n"
     ]
    }
   ],
   "source": [
    "a =  [1,2,3,4,5]\n",
    "print(a.index(2)) \n",
    "print(np.random.randint(0,5))"
   ]
  },
  {
   "cell_type": "markdown",
   "metadata": {},
   "source": [
    "# 测试 find_topk_classes（）"
   ]
  },
  {
   "cell_type": "code",
   "execution_count": 19,
   "metadata": {},
   "outputs": [],
   "source": [
    "def find_topk_classes(logits:torch.Tensor, target:torch.Tensor, classNames:list, zeroshot_weights_dict, k:int = 5):\n",
    "    logits = logits.to(torch.float32) # 转精度\n",
    "    indices = logits.topk(k)[1] # [batch , k]\n",
    "\n",
    "    offset = k\n",
    "\n",
    "    # 1. new target\n",
    "    new_target = [] # [batch]\n",
    "    # 对于一个样本，如果其topk中有GT，则将其新标签定义为topK中GT的下标\n",
    "    # 如果其topK没有GT，那么就在[0,K)中随机赋值一个新标签给该样本 TODO\n",
    "    for index, topK_i in enumerate(indices):\n",
    "        target_i = target[index]\n",
    "        if target_i in topK_i:\n",
    "            new_target_i = ((topK_i == target_i).nonzero(as_tuple=True)[0]).item()\n",
    "        else:\n",
    "            new_target_i = target_i + offset\n",
    "        new_target.append(new_target_i)\n",
    "\n",
    "    new_target = torch.tensor(new_target).cuda()\n",
    "    \n",
    "    # 2. class embedding  \n",
    "    class_embeddings = [] # [batch, k, 1024]\n",
    "    for index, indices_i in enumerate(indices):\n",
    "        embeddings = []\n",
    "        for i in indices_i:\n",
    "            name = classNames[i]\n",
    "            embeddings.append(zeroshot_weights_dict[name])\n",
    "        \n",
    "        # add neg embedding\n",
    "        if new_target[index] >= k: # 说明topK中没有GT\n",
    "            # 获取GT的类别下标\n",
    "            extra_index = new_target[index] - offset\n",
    "            print(f'index:{index},pos, extra_index:{extra_index}')\n",
    "            new_target[index] = k # 把GT作为第k+1个class embedding\n",
    "        else:\n",
    "            # 随机从TopK以外的下标中取一个作为负类样本\n",
    "            while(1):\n",
    "                extra_index = np.random.randint(0,len(classNames))\n",
    "                if extra_index not in indices_i:\n",
    "                    print(f'index:{index},neg, extra_index:{extra_index}')\n",
    "                    break\n",
    "        neg_name = classNames[extra_index]\n",
    "        embeddings.append(zeroshot_weights_dict[neg_name])\n",
    "        embeddings = torch.stack(embeddings) # [k+1, 1024]\n",
    "        class_embeddings.append(embeddings)\n",
    "    class_embeddings = torch.stack(class_embeddings)\n",
    "\n",
    "\n",
    "    return class_embeddings, new_target"
   ]
  },
  {
   "cell_type": "code",
   "execution_count": 20,
   "metadata": {},
   "outputs": [],
   "source": [
    "zeroshot_weights_dict = torch.load('/data/luowei/missing_modality/Tip-Adapter-Multi-Stage/checkpoints/zeroshot_weights_dict.pt')"
   ]
  },
  {
   "cell_type": "code",
   "execution_count": 21,
   "metadata": {},
   "outputs": [
    {
     "name": "stdout",
     "output_type": "stream",
     "text": [
      "index:0,pos, extra_index:9\n",
      "index:1,neg, extra_index:227\n",
      "index:2,neg, extra_index:663\n",
      "index:3,pos, extra_index:6\n"
     ]
    }
   ],
   "source": [
    "logits = torch.rand(4,10)\n",
    "target = torch.randint(0,10,(4,1)).view(-1)\n",
    "class_embeddings, new_target = find_topk_classes(logits,target,imagenet_classes,zeroshot_weights_dict,5)"
   ]
  },
  {
   "cell_type": "code",
   "execution_count": 22,
   "metadata": {},
   "outputs": [
    {
     "name": "stdout",
     "output_type": "stream",
     "text": [
      "tensor([[8, 7, 2, 4, 3, 0, 9, 5, 1, 6],\n",
      "        [4, 6, 8, 7, 0, 1, 2, 5, 3, 9],\n",
      "        [6, 7, 3, 9, 5, 1, 2, 0, 4, 8],\n",
      "        [2, 4, 8, 1, 9, 3, 7, 0, 5, 6]])\n",
      "target:\n",
      "\t tensor([9, 0, 6, 6])\n",
      "new_target:\n",
      "\t tensor([5, 4, 0, 5], device='cuda:0')\n"
     ]
    }
   ],
   "source": [
    "print(logits.topk(10)[1])\n",
    "print('target:\\n\\t',target)\n",
    "print('new_target:\\n\\t',new_target)"
   ]
  },
  {
   "cell_type": "markdown",
   "metadata": {},
   "source": [
    "# topK_indices_to_mask"
   ]
  },
  {
   "cell_type": "code",
   "execution_count": 44,
   "metadata": {},
   "outputs": [],
   "source": [
    "def topK_indices_to_mask(batch_topk_indices:torch.tensor, class_num = 1000, shot = 16):\n",
    "    batch_size = batch_topk_indices.shape[0]\n",
    "    masks_class = torch.zeros(batch_size, class_num)\n",
    "    for index,indices in enumerate(batch_topk_indices):\n",
    "        for i in indices:\n",
    "            masks_class[index][i] = 1\n",
    "    \n",
    "    masks_sample = torch.zeros(batch_size, class_num * shot)\n",
    "    for i, line in enumerate(masks_class):\n",
    "        for j, value in enumerate(line):\n",
    "            for k in range(shot):\n",
    "                masks_sample[i][shot * j + k] = value \n",
    "\n",
    "    return masks_sample, masks_class"
   ]
  },
  {
   "cell_type": "code",
   "execution_count": 49,
   "metadata": {},
   "outputs": [
    {
     "name": "stdout",
     "output_type": "stream",
     "text": [
      "tensor([[2, 3, 3, 2, 4],\n",
      "        [3, 4, 3, 3, 1],\n",
      "        [1, 1, 2, 2, 3],\n",
      "        [2, 0, 3, 0, 3]])\n",
      "tensor([[0., 0., 1., 1., 1., 0., 0., 0., 0., 0.],\n",
      "        [0., 1., 0., 1., 1., 0., 0., 0., 0., 0.],\n",
      "        [0., 1., 1., 1., 0., 0., 0., 0., 0., 0.],\n",
      "        [1., 0., 1., 1., 0., 0., 0., 0., 0., 0.]])\n",
      "tensor([[0., 0., 0., 0., 1., 1., 1., 1., 1., 1., 0., 0., 0., 0., 0., 0., 0., 0.,\n",
      "         0., 0.],\n",
      "        [0., 0., 1., 1., 0., 0., 1., 1., 1., 1., 0., 0., 0., 0., 0., 0., 0., 0.,\n",
      "         0., 0.],\n",
      "        [0., 0., 1., 1., 1., 1., 1., 1., 0., 0., 0., 0., 0., 0., 0., 0., 0., 0.,\n",
      "         0., 0.],\n",
      "        [1., 1., 0., 0., 1., 1., 1., 1., 0., 0., 0., 0., 0., 0., 0., 0., 0., 0.,\n",
      "         0., 0.]])\n"
     ]
    }
   ],
   "source": [
    "indices = torch.randint(0,5,(4,5))\n",
    "class_num = 10\n",
    "print(indices)\n",
    "masks_sample, masks_class = topK_indices_to_mask(indices, class_num, 2)\n",
    "print(masks_class)\n",
    "print(masks_sample)\n"
   ]
  },
  {
   "cell_type": "markdown",
   "metadata": {},
   "source": [
    "# 矩阵乘法"
   ]
  },
  {
   "cell_type": "code",
   "execution_count": 55,
   "metadata": {},
   "outputs": [
    {
     "name": "stdout",
     "output_type": "stream",
     "text": [
      "tensor([[0.2584, 0.6904],\n",
      "        [0.4781, 0.9321]])\n",
      "tensor([[0.8663, 0.1402],\n",
      "        [0.1867, 0.7957]])\n",
      "torch.Size([2, 2])\n",
      "tensor([[0.2239, 0.0968],\n",
      "        [0.0893, 0.7417]])\n"
     ]
    }
   ],
   "source": [
    "a = torch.rand(2,2)\n",
    "b = torch.rand(2,2)\n",
    "res = a * b \n",
    "print(a)\n",
    "print(b)\n",
    "print(res.shape)\n",
    "print(res)"
   ]
  },
  {
   "cell_type": "code",
   "execution_count": null,
   "metadata": {},
   "outputs": [],
   "source": []
  }
 ],
 "metadata": {
  "interpreter": {
   "hash": "952a9237107f23337e2cf64b27dea29cd0600c26eb7b44c973b3922fe2f0ed3b"
  },
  "kernelspec": {
   "display_name": "Python 3.7.11 ('wav2clip_env')",
   "language": "python",
   "name": "python3"
  },
  "language_info": {
   "codemirror_mode": {
    "name": "ipython",
    "version": 3
   },
   "file_extension": ".py",
   "mimetype": "text/x-python",
   "name": "python",
   "nbconvert_exporter": "python",
   "pygments_lexer": "ipython3",
   "version": "3.7.11"
  },
  "orig_nbformat": 4
 },
 "nbformat": 4,
 "nbformat_minor": 2
}
