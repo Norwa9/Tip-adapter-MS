{
 "cells": [
  {
   "cell_type": "code",
   "execution_count": 60,
   "metadata": {},
   "outputs": [],
   "source": [
    "import torch\n",
    "import numpy as np"
   ]
  },
  {
   "cell_type": "code",
   "execution_count": 61,
   "metadata": {},
   "outputs": [
    {
     "name": "stdout",
     "output_type": "stream",
     "text": [
      "tensor([[[0.8554, 0.8157],\n",
      "         [0.5281, 0.3419]],\n",
      "\n",
      "        [[0.6458, 0.0837],\n",
      "         [0.5861, 0.2356]],\n",
      "\n",
      "        [[0.0338, 0.2975],\n",
      "         [0.2715, 0.5983]],\n",
      "\n",
      "        [[0.9611, 0.7021],\n",
      "         [0.6845, 0.3471]]]) tensor([[[0.1939, 0.5738]],\n",
      "\n",
      "        [[0.7665, 0.1420]],\n",
      "\n",
      "        [[0.3159, 0.9313]],\n",
      "\n",
      "        [[0.2528, 0.0822]]]) tensor([[[1.0494, 1.3895],\n",
      "         [0.7220, 0.9157]],\n",
      "\n",
      "        [[1.4123, 0.2257],\n",
      "         [1.3526, 0.3776]],\n",
      "\n",
      "        [[0.3497, 1.2288],\n",
      "         [0.5873, 1.5296]],\n",
      "\n",
      "        [[1.2139, 0.7843],\n",
      "         [0.9373, 0.4293]]])\n",
      "torch.Size([4, 2, 2])\n"
     ]
    }
   ],
   "source": [
    "batch = 4\n",
    "seq_len = 2\n",
    "dim = 2\n",
    "a=torch.rand(batch,seq_len,dim)\n",
    "b=torch.rand(batch,1,dim)\n",
    "# b = b.repeat(1,seq_len,1)\n",
    "# res = torch.concat([a,b],dim=-1)\n",
    "res = a+b\n",
    "print(a,b,res)\n",
    "print(res.shape)"
   ]
  },
  {
   "cell_type": "code",
   "execution_count": 62,
   "metadata": {},
   "outputs": [],
   "source": [
    "output = torch.rand(4,5)\n",
    "target = torch.randint(0,5,(4,1))\n",
    "pred = output.topk(5, 1, True, True)[1].t()\n",
    "expand_target = target.view(1, -1).expand_as(pred)\n",
    "correct = pred.eq(expand_target)"
   ]
  },
  {
   "cell_type": "code",
   "execution_count": 63,
   "metadata": {},
   "outputs": [
    {
     "name": "stdout",
     "output_type": "stream",
     "text": [
      "tensor([1])\n"
     ]
    }
   ],
   "source": [
    "output = torch.rand(4,5)\n",
    "top1 = output.topk(1)[1]\n",
    "print(top1[0])"
   ]
  },
  {
   "cell_type": "code",
   "execution_count": 64,
   "metadata": {},
   "outputs": [
    {
     "name": "stdout",
     "output_type": "stream",
     "text": [
      "[924, 264, 569, 494, 635, 560, 393, 756, 125, 600]\n"
     ]
    }
   ],
   "source": [
    "import random\n",
    "res = random.sample(range(1000),10)\n",
    "print(res)"
   ]
  },
  {
   "cell_type": "code",
   "execution_count": 77,
   "metadata": {},
   "outputs": [],
   "source": [
    "def sapmle_topk1_prototypes(logits:torch.Tensor, targets:torch.Tensor, topK:int):\n",
    "    cls_num = logits.shape[1]\n",
    "    batch = logits.shape[0]\n",
    "    \n",
    "\n",
    "    origin_target = []\n",
    "    new_target = torch.zeros(batch,1).view(-1)\n",
    "    for i, target in enumerate(targets):\n",
    "        random_targets = random.sample(range(cls_num),topK+1)\n",
    "        if target in random_targets:\n",
    "            new_target[i] = random_targets.index(target)\n",
    "        else:\n",
    "            random_targets[0] = target.numpy()\n",
    "        origin_target =  np.append(origin_target, random_targets)\n",
    "    \n",
    "    origin_target = origin_target.reshape(batch,-1)\n",
    "    new_target = new_target.cuda()\n",
    "\n",
    "    return new_target, origin_target"
   ]
  },
  {
   "cell_type": "code",
   "execution_count": 78,
   "metadata": {},
   "outputs": [
    {
     "name": "stdout",
     "output_type": "stream",
     "text": [
      "tensor([[6, 4, 5, 3, 8],\n",
      "        [1, 4, 0, 2, 7],\n",
      "        [1, 9, 2, 7, 4],\n",
      "        [4, 5, 9, 8, 1]])\n",
      "tensor([4, 3, 8, 0])\n",
      "tensor([0., 0., 0., 0.], device='cuda:0')\n",
      "[[4. 5. 7. 8. 1. 6.]\n",
      " [3. 0. 7. 4. 8. 6.]\n",
      " [8. 9. 2. 1. 4. 6.]\n",
      " [0. 5. 7. 1. 3. 2.]]\n"
     ]
    }
   ],
   "source": [
    "cls_num = 10\n",
    "batch = 4\n",
    "logits = torch.rand(batch,cls_num)\n",
    "target = torch.randint(0,cls_num,(batch,1)).view(-1)\n",
    "new_target, origin_target = sapmle_topk1_prototypes(logits,target,5)\n",
    "\n",
    "print(logits.topk(5)[1])\n",
    "print(target)\n",
    "print(new_target)\n",
    "print(origin_target)"
   ]
  },
  {
   "cell_type": "markdown",
   "metadata": {},
   "source": [
    "# .numpy()"
   ]
  },
  {
   "cell_type": "code",
   "execution_count": 82,
   "metadata": {},
   "outputs": [
    {
     "name": "stdout",
     "output_type": "stream",
     "text": [
      "tensor([1, 2])\n",
      "[1 2]\n"
     ]
    }
   ],
   "source": [
    "a = torch.tensor([1,2])\n",
    "print(a)\n",
    "b = a.numpy()\n",
    "print(b)"
   ]
  },
  {
   "cell_type": "markdown",
   "metadata": {},
   "source": [
    "# sample"
   ]
  },
  {
   "cell_type": "code",
   "execution_count": 96,
   "metadata": {},
   "outputs": [
    {
     "name": "stdout",
     "output_type": "stream",
     "text": [
      "[2, 1, 4, 0, 3]\n",
      "[7, 9, 6, 8, 1]\n",
      "[1, 7, 0, 6, 3]\n",
      "[6, 0, 7, 2, 5]\n"
     ]
    }
   ],
   "source": [
    "random.seed(1)\n",
    "for i in range(2):\n",
    "    for j in range(2):\n",
    "        res = random.sample(range(10),5)\n",
    "        print(res)"
   ]
  },
  {
   "cell_type": "markdown",
   "metadata": {},
   "source": [
    "# att rank"
   ]
  },
  {
   "cell_type": "code",
   "execution_count": 143,
   "metadata": {},
   "outputs": [
    {
     "name": "stdout",
     "output_type": "stream",
     "text": [
      "tensor([[0.8761, 0.2455]])\n",
      "tensor([[0.6298, 0.5212]])\n"
     ]
    }
   ],
   "source": [
    "batch = 1\n",
    "k = 2\n",
    "y = abs(torch.rand(batch, k))\n",
    "res = abs(torch.rand(batch, k))\n",
    "print(y)\n",
    "print(res)"
   ]
  },
  {
   "cell_type": "code",
   "execution_count": 147,
   "metadata": {},
   "outputs": [],
   "source": [
    "def att_rank(y):\n",
    "    exp_y = torch.exp(y)\n",
    "    # print(f'exp_y:{exp_y}')\n",
    "    sum = torch.sum(exp_y,dim=-1).unsqueeze(-1)\n",
    "    # print(f'sum:{sum}')\n",
    "    y = exp_y / sum\n",
    "    return y"
   ]
  },
  {
   "cell_type": "code",
   "execution_count": 151,
   "metadata": {},
   "outputs": [
    {
     "name": "stdout",
     "output_type": "stream",
     "text": [
      "tensor(-1.3862)\n"
     ]
    }
   ],
   "source": [
    "y = att_rank(y)\n",
    "res = att_rank(res)\n",
    "loss1 = y*torch.log(res)\n",
    "loss2 = (1-y)*torch.log(1-res)\n",
    "Loss = loss1+loss2\n",
    "print(Loss.sum())"
   ]
  },
  {
   "cell_type": "code",
   "execution_count": null,
   "metadata": {},
   "outputs": [],
   "source": [
    "index = torch.arange(batch)\n",
    "pos_score = sim_mat[index, labels] # [batch] ， 每行是每个样本与其对应类中心的距离\n",
    "\n",
    "all_score = torch.sum(sim_mat,dim=-1) # [batch]， 每行是每个样本与所有类中心距离之和\n",
    "\n",
    "loss = - torch.log(pos_score / all_score) # 每个样本都要与其类中心最接近"
   ]
  }
 ],
 "metadata": {
  "interpreter": {
   "hash": "952a9237107f23337e2cf64b27dea29cd0600c26eb7b44c973b3922fe2f0ed3b"
  },
  "kernelspec": {
   "display_name": "Python 3.7.11 ('wav2clip_env')",
   "language": "python",
   "name": "python3"
  },
  "language_info": {
   "codemirror_mode": {
    "name": "ipython",
    "version": 3
   },
   "file_extension": ".py",
   "mimetype": "text/x-python",
   "name": "python",
   "nbconvert_exporter": "python",
   "pygments_lexer": "ipython3",
   "version": "3.7.11"
  },
  "orig_nbformat": 4
 },
 "nbformat": 4,
 "nbformat_minor": 2
}
