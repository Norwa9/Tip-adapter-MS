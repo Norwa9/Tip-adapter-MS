{
 "cells": [
  {
   "cell_type": "code",
   "execution_count": 1,
   "metadata": {},
   "outputs": [],
   "source": [
    "import torch"
   ]
  },
  {
   "cell_type": "code",
   "execution_count": 9,
   "metadata": {},
   "outputs": [
    {
     "name": "stdout",
     "output_type": "stream",
     "text": [
      "tensor([[[0.9401, 0.8200],\n",
      "         [0.4438, 0.9704]],\n",
      "\n",
      "        [[0.4755, 0.0304],\n",
      "         [0.2399, 0.1864]],\n",
      "\n",
      "        [[0.1638, 0.6242],\n",
      "         [0.7769, 0.9404]],\n",
      "\n",
      "        [[0.9876, 0.9505],\n",
      "         [0.1248, 0.7242]]]) tensor([[[0.2734, 0.4984]],\n",
      "\n",
      "        [[0.0847, 0.7721]],\n",
      "\n",
      "        [[0.6591, 0.9651]],\n",
      "\n",
      "        [[0.2643, 0.0130]]]) tensor([[[1.2135, 1.3184],\n",
      "         [0.7172, 1.4688]],\n",
      "\n",
      "        [[0.5602, 0.8024],\n",
      "         [0.3246, 0.9584]],\n",
      "\n",
      "        [[0.8229, 1.5894],\n",
      "         [1.4360, 1.9055]],\n",
      "\n",
      "        [[1.2519, 0.9635],\n",
      "         [0.3891, 0.7372]]])\n",
      "torch.Size([4, 2, 2])\n"
     ]
    }
   ],
   "source": [
    "batch = 4\n",
    "seq_len = 2\n",
    "dim = 2\n",
    "a=torch.rand(batch,seq_len,dim)\n",
    "b=torch.rand(batch,1,dim)\n",
    "# b = b.repeat(1,seq_len,1)\n",
    "# res = torch.concat([a,b],dim=-1)\n",
    "res = a+b\n",
    "print(a,b,res)\n",
    "print(res.shape)"
   ]
  },
  {
   "cell_type": "code",
   "execution_count": 3,
   "metadata": {},
   "outputs": [],
   "source": [
    "output = torch.rand(4,5)\n",
    "target = torch.randint(0,5,(4,1))\n",
    "pred = output.topk(5, 1, True, True)[1].t()\n",
    "expand_target = target.view(1, -1).expand_as(pred)\n",
    "correct = pred.eq(expand_target)"
   ]
  },
  {
   "cell_type": "code",
   "execution_count": 4,
   "metadata": {},
   "outputs": [
    {
     "name": "stdout",
     "output_type": "stream",
     "text": [
      "tensor([0])\n"
     ]
    }
   ],
   "source": [
    "output = torch.rand(4,5)\n",
    "top1 = output.topk(1)[1]\n",
    "print(top1[0])"
   ]
  }
 ],
 "metadata": {
  "interpreter": {
   "hash": "952a9237107f23337e2cf64b27dea29cd0600c26eb7b44c973b3922fe2f0ed3b"
  },
  "kernelspec": {
   "display_name": "Python 3.7.11 ('wav2clip_env')",
   "language": "python",
   "name": "python3"
  },
  "language_info": {
   "codemirror_mode": {
    "name": "ipython",
    "version": 3
   },
   "file_extension": ".py",
   "mimetype": "text/x-python",
   "name": "python",
   "nbconvert_exporter": "python",
   "pygments_lexer": "ipython3",
   "version": "3.7.11"
  },
  "orig_nbformat": 4
 },
 "nbformat": 4,
 "nbformat_minor": 2
}
