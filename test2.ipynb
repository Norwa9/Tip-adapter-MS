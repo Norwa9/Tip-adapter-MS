{
 "cells": [
  {
   "cell_type": "code",
   "execution_count": 1,
   "metadata": {},
   "outputs": [],
   "source": [
    "import torch\n",
    "import numpy as np"
   ]
  },
  {
   "cell_type": "code",
   "execution_count": 2,
   "metadata": {},
   "outputs": [
    {
     "name": "stdout",
     "output_type": "stream",
     "text": [
      "tensor([[[0.6230, 0.4881],\n",
      "         [0.4676, 0.6695]],\n",
      "\n",
      "        [[0.3570, 0.1459],\n",
      "         [0.8052, 0.2505]],\n",
      "\n",
      "        [[0.7765, 0.9509],\n",
      "         [0.6656, 0.2447]],\n",
      "\n",
      "        [[0.7598, 0.0377],\n",
      "         [0.7285, 0.6509]]]) tensor([[[0.8809, 0.7215]],\n",
      "\n",
      "        [[0.0021, 0.5070]],\n",
      "\n",
      "        [[0.4040, 0.8423]],\n",
      "\n",
      "        [[0.9786, 0.6530]]]) tensor([[[1.5039, 1.2096],\n",
      "         [1.3485, 1.3910]],\n",
      "\n",
      "        [[0.3590, 0.6529],\n",
      "         [0.8072, 0.7575]],\n",
      "\n",
      "        [[1.1805, 1.7932],\n",
      "         [1.0696, 1.0869]],\n",
      "\n",
      "        [[1.7384, 0.6907],\n",
      "         [1.7071, 1.3040]]])\n",
      "torch.Size([4, 2, 2])\n"
     ]
    }
   ],
   "source": [
    "batch = 4\n",
    "seq_len = 2\n",
    "dim = 2\n",
    "a=torch.rand(batch,seq_len,dim)\n",
    "b=torch.rand(batch,1,dim)\n",
    "# b = b.repeat(1,seq_len,1)\n",
    "# res = torch.concat([a,b],dim=-1)\n",
    "res = a+b\n",
    "print(a,b,res)\n",
    "print(res.shape)"
   ]
  },
  {
   "cell_type": "code",
   "execution_count": 3,
   "metadata": {},
   "outputs": [],
   "source": [
    "output = torch.rand(4,5)\n",
    "target = torch.randint(0,5,(4,1))\n",
    "pred = output.topk(5, 1, True, True)[1].t()\n",
    "expand_target = target.view(1, -1).expand_as(pred)\n",
    "correct = pred.eq(expand_target)"
   ]
  },
  {
   "cell_type": "code",
   "execution_count": 4,
   "metadata": {},
   "outputs": [
    {
     "name": "stdout",
     "output_type": "stream",
     "text": [
      "tensor([0])\n"
     ]
    }
   ],
   "source": [
    "output = torch.rand(4,5)\n",
    "top1 = output.topk(1)[1]\n",
    "print(top1[0])"
   ]
  },
  {
   "cell_type": "code",
   "execution_count": 5,
   "metadata": {},
   "outputs": [
    {
     "name": "stdout",
     "output_type": "stream",
     "text": [
      "[444, 174, 922, 728, 512, 68, 784, 562, 278, 812]\n"
     ]
    }
   ],
   "source": [
    "import random\n",
    "res = random.sample(range(1000),10)\n",
    "print(res)"
   ]
  },
  {
   "cell_type": "code",
   "execution_count": 6,
   "metadata": {},
   "outputs": [],
   "source": [
    "def sapmle_topk1_prototypes(logits:torch.Tensor, targets:torch.Tensor, topK:int):\n",
    "    cls_num = logits.shape[1]\n",
    "    batch = logits.shape[0]\n",
    "    \n",
    "\n",
    "    origin_target = []\n",
    "    new_target = torch.zeros(batch,1).view(-1)\n",
    "    for i, target in enumerate(targets):\n",
    "        random_targets = random.sample(range(cls_num),topK+1)\n",
    "        if target in random_targets:\n",
    "            new_target[i] = random_targets.index(target)\n",
    "        else:\n",
    "            random_targets[0] = target.numpy()\n",
    "        origin_target =  np.append(origin_target, random_targets)\n",
    "    \n",
    "    origin_target = origin_target.reshape(batch,-1)\n",
    "    new_target = new_target.cuda()\n",
    "\n",
    "    return new_target, origin_target"
   ]
  },
  {
   "cell_type": "code",
   "execution_count": 7,
   "metadata": {},
   "outputs": [
    {
     "name": "stdout",
     "output_type": "stream",
     "text": [
      "tensor([[4, 1, 2, 9, 5],\n",
      "        [5, 0, 6, 4, 7],\n",
      "        [1, 7, 0, 8, 4],\n",
      "        [8, 0, 4, 2, 9]])\n",
      "tensor([7, 4, 1, 8])\n",
      "tensor([0., 1., 5., 0.], device='cuda:0')\n",
      "[[7. 3. 2. 0. 5. 1.]\n",
      " [3. 4. 0. 6. 8. 9.]\n",
      " [3. 6. 4. 7. 9. 1.]\n",
      " [8. 4. 2. 9. 6. 0.]]\n"
     ]
    }
   ],
   "source": [
    "cls_num = 10\n",
    "batch = 4\n",
    "logits = torch.rand(batch,cls_num)\n",
    "target = torch.randint(0,cls_num,(batch,1)).view(-1)\n",
    "new_target, origin_target = sapmle_topk1_prototypes(logits,target,5)\n",
    "\n",
    "print(logits.topk(5)[1])\n",
    "print(target)\n",
    "print(new_target)\n",
    "print(origin_target)"
   ]
  },
  {
   "cell_type": "markdown",
   "metadata": {},
   "source": [
    "# .numpy()"
   ]
  },
  {
   "cell_type": "code",
   "execution_count": 8,
   "metadata": {},
   "outputs": [
    {
     "name": "stdout",
     "output_type": "stream",
     "text": [
      "tensor([1, 2])\n",
      "[1 2]\n"
     ]
    }
   ],
   "source": [
    "a = torch.tensor([1,2])\n",
    "print(a)\n",
    "b = a.numpy()\n",
    "print(b)"
   ]
  },
  {
   "cell_type": "markdown",
   "metadata": {},
   "source": [
    "# sample"
   ]
  },
  {
   "cell_type": "code",
   "execution_count": 9,
   "metadata": {},
   "outputs": [
    {
     "name": "stdout",
     "output_type": "stream",
     "text": [
      "[2, 1, 4, 0, 3]\n",
      "[7, 9, 6, 8, 1]\n",
      "[1, 7, 0, 6, 3]\n",
      "[6, 0, 7, 2, 5]\n"
     ]
    }
   ],
   "source": [
    "random.seed(1)\n",
    "for i in range(2):\n",
    "    for j in range(2):\n",
    "        res = random.sample(range(10),5)\n",
    "        print(res)"
   ]
  },
  {
   "cell_type": "markdown",
   "metadata": {},
   "source": [
    "# att rank"
   ]
  },
  {
   "cell_type": "code",
   "execution_count": 10,
   "metadata": {},
   "outputs": [
    {
     "name": "stdout",
     "output_type": "stream",
     "text": [
      "tensor([[0.5577, 0.8416]])\n",
      "tensor([[0.6832, 0.0338]])\n"
     ]
    }
   ],
   "source": [
    "batch = 1\n",
    "k = 2\n",
    "y = abs(torch.rand(batch, k))\n",
    "res = abs(torch.rand(batch, k))\n",
    "print(y)\n",
    "print(res)"
   ]
  },
  {
   "cell_type": "code",
   "execution_count": 11,
   "metadata": {},
   "outputs": [],
   "source": [
    "def att_rank(y):\n",
    "    exp_y = torch.exp(y)\n",
    "    # print(f'exp_y:{exp_y}')\n",
    "    sum = torch.sum(exp_y,dim=-1).unsqueeze(-1)\n",
    "    # print(f'sum:{sum}')\n",
    "    y = exp_y / sum\n",
    "    return y"
   ]
  },
  {
   "cell_type": "code",
   "execution_count": 12,
   "metadata": {},
   "outputs": [
    {
     "name": "stdout",
     "output_type": "stream",
     "text": [
      "tensor(-1.5815)\n"
     ]
    }
   ],
   "source": [
    "y = att_rank(y)\n",
    "res = att_rank(res)\n",
    "loss1 = y*torch.log(res)\n",
    "loss2 = (1-y)*torch.log(1-res)\n",
    "Loss = loss1+loss2\n",
    "print(Loss.sum())"
   ]
  },
  {
   "cell_type": "markdown",
   "metadata": {},
   "source": [
    "# relu"
   ]
  },
  {
   "cell_type": "code",
   "execution_count": 13,
   "metadata": {},
   "outputs": [
    {
     "name": "stdout",
     "output_type": "stream",
     "text": [
      "tensor([-1,  1])\n",
      "tensor([0, 1])\n"
     ]
    }
   ],
   "source": [
    "import torch.nn.functional as F\n",
    "\n",
    "x = torch.tensor([-1,1])\n",
    "print(x)\n",
    "print(F.relu(x))"
   ]
  },
  {
   "cell_type": "code",
   "execution_count": 14,
   "metadata": {},
   "outputs": [
    {
     "name": "stdout",
     "output_type": "stream",
     "text": [
      "logits:tensor([[0.9215, 0.6952, 0.4808, 0.0403, 0.5731, 0.2616, 0.7758, 0.7189, 0.1369,\n",
      "         0.4465],\n",
      "        [0.1600, 0.2066, 0.4691, 0.8494, 0.7783, 0.4414, 0.2450, 0.7125, 0.5073,\n",
      "         0.7279],\n",
      "        [0.1275, 0.2685, 0.6627, 0.8851, 0.8482, 0.3214, 0.1433, 0.9075, 0.5433,\n",
      "         0.4391],\n",
      "        [0.6803, 0.1889, 0.5704, 0.9182, 0.1282, 0.7901, 0.9930, 0.7007, 0.3384,\n",
      "         0.6612]])\n",
      "indices:tensor([[4, 8, 2, 0, 1],\n",
      "        [7, 6, 3, 3, 7],\n",
      "        [0, 7, 4, 3, 2],\n",
      "        [9, 4, 7, 1, 6]])\n",
      "tensor([[0.5731, 0.1369, 0.4808, 0.9215, 0.6952],\n",
      "        [0.7125, 0.2450, 0.8494, 0.8494, 0.7125],\n",
      "        [0.1275, 0.9075, 0.8482, 0.8851, 0.6627],\n",
      "        [0.6612, 0.1282, 0.7007, 0.1889, 0.9930]])\n"
     ]
    }
   ],
   "source": [
    "cls_num = 10\n",
    "batch = 4\n",
    "k = 5\n",
    "logits = torch.rand(batch,cls_num)\n",
    "print(f'logits:{logits}')\n",
    "indices = torch.randint(0,cls_num,(batch,k))\n",
    "print(f'indices:{indices}')\n",
    "logits2 = torch.stack([logits[i][indices[i]] for i in range(batch)])\n",
    "print(logits2)"
   ]
  },
  {
   "cell_type": "code",
   "execution_count": 15,
   "metadata": {},
   "outputs": [],
   "source": [
    "def one_hot(y, cls_num):\n",
    "    one_hot_target = torch.zeros((y.shape[0], cls_num))\n",
    "    for i,target in enumerate(y):\n",
    "            one_hot_target[i][target] = 1\n",
    "    return one_hot_target"
   ]
  },
  {
   "cell_type": "code",
   "execution_count": 16,
   "metadata": {},
   "outputs": [
    {
     "name": "stdout",
     "output_type": "stream",
     "text": [
      "tensor([[0., 1., 0., 0., 0., 0., 0., 0., 0., 0., 0., 0., 0., 0., 0., 0., 0., 0.,\n",
      "         0., 0., 0., 0., 0., 0., 0., 0., 0., 0., 0., 0., 0., 0., 0., 0., 0., 0.,\n",
      "         0., 0., 0., 0., 0., 0., 0., 0., 0., 0., 0., 0., 0., 0., 0., 0., 0., 0.,\n",
      "         0., 0., 0., 0., 0., 0., 0., 0., 0., 0., 0., 0., 0., 0., 0., 0., 0., 0.,\n",
      "         0., 0., 0., 0., 0., 0., 0., 0., 0., 0., 0., 0., 0., 0., 0., 0., 0., 0.,\n",
      "         0., 0., 0., 0., 0., 0., 0., 0., 0., 0.],\n",
      "        [0., 0., 1., 0., 0., 0., 0., 0., 0., 0., 0., 0., 0., 0., 0., 0., 0., 0.,\n",
      "         0., 0., 0., 0., 0., 0., 0., 0., 0., 0., 0., 0., 0., 0., 0., 0., 0., 0.,\n",
      "         0., 0., 0., 0., 0., 0., 0., 0., 0., 0., 0., 0., 0., 0., 0., 0., 0., 0.,\n",
      "         0., 0., 0., 0., 0., 0., 0., 0., 0., 0., 0., 0., 0., 0., 0., 0., 0., 0.,\n",
      "         0., 0., 0., 0., 0., 0., 0., 0., 0., 0., 0., 0., 0., 0., 0., 0., 0., 0.,\n",
      "         0., 0., 0., 0., 0., 0., 0., 0., 0., 0.],\n",
      "        [0., 0., 0., 1., 0., 0., 0., 0., 0., 0., 0., 0., 0., 0., 0., 0., 0., 0.,\n",
      "         0., 0., 0., 0., 0., 0., 0., 0., 0., 0., 0., 0., 0., 0., 0., 0., 0., 0.,\n",
      "         0., 0., 0., 0., 0., 0., 0., 0., 0., 0., 0., 0., 0., 0., 0., 0., 0., 0.,\n",
      "         0., 0., 0., 0., 0., 0., 0., 0., 0., 0., 0., 0., 0., 0., 0., 0., 0., 0.,\n",
      "         0., 0., 0., 0., 0., 0., 0., 0., 0., 0., 0., 0., 0., 0., 0., 0., 0., 0.,\n",
      "         0., 0., 0., 0., 0., 0., 0., 0., 0., 0.]])\n"
     ]
    }
   ],
   "source": [
    "a = torch.tensor([1,2,3])\n",
    "res = one_hot(a,100)\n",
    "print(res)"
   ]
  },
  {
   "cell_type": "code",
   "execution_count": 71,
   "metadata": {},
   "outputs": [],
   "source": [
    "a = torch.rand(1,5)\n",
    "b = torch.rand(1,5)\n",
    "res1 = a @ b.T\n",
    "a = F.normalize(a,dim=-1)\n",
    "b = F.normalize(b,dim=-1)\n",
    "res2 = a @ b.T\n",
    "\n",
    "# print(a)\n",
    "# print(b)\n",
    "# print(res1)\n",
    "# print(res2)"
   ]
  }
 ],
 "metadata": {
  "interpreter": {
   "hash": "952a9237107f23337e2cf64b27dea29cd0600c26eb7b44c973b3922fe2f0ed3b"
  },
  "kernelspec": {
   "display_name": "Python 3.7.11 ('wav2clip_env')",
   "language": "python",
   "name": "python3"
  },
  "language_info": {
   "codemirror_mode": {
    "name": "ipython",
    "version": 3
   },
   "file_extension": ".py",
   "mimetype": "text/x-python",
   "name": "python",
   "nbconvert_exporter": "python",
   "pygments_lexer": "ipython3",
   "version": "3.7.11"
  },
  "orig_nbformat": 4
 },
 "nbformat": 4,
 "nbformat_minor": 2
}
