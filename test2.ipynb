{
 "cells": [
  {
   "cell_type": "code",
   "execution_count": 15,
   "metadata": {},
   "outputs": [],
   "source": [
    "import torch"
   ]
  },
  {
   "cell_type": "code",
   "execution_count": 16,
   "metadata": {},
   "outputs": [
    {
     "name": "stdout",
     "output_type": "stream",
     "text": [
      "tensor([[[0.0986, 0.3325],\n",
      "         [0.8410, 0.1654]],\n",
      "\n",
      "        [[0.7595, 0.5923],\n",
      "         [0.9743, 0.4422]],\n",
      "\n",
      "        [[0.1488, 0.5953],\n",
      "         [0.7227, 0.9367]],\n",
      "\n",
      "        [[0.0654, 0.7041],\n",
      "         [0.3643, 0.3125]]])\n",
      "tensor([[[0.9101, 0.2547]],\n",
      "\n",
      "        [[0.8328, 0.7735]],\n",
      "\n",
      "        [[0.4880, 0.2501]],\n",
      "\n",
      "        [[0.5735, 0.5823]]])\n",
      "tensor([[[1.0087, 0.5872],\n",
      "         [1.7510, 0.4201]],\n",
      "\n",
      "        [[1.5923, 1.3658],\n",
      "         [1.8071, 1.2157]],\n",
      "\n",
      "        [[0.6367, 0.8454],\n",
      "         [1.2107, 1.1868]],\n",
      "\n",
      "        [[0.6390, 1.2864],\n",
      "         [0.9378, 0.8948]]])\n"
     ]
    }
   ],
   "source": [
    "batch = 4\n",
    "seq_len = 2\n",
    "dim = 2\n",
    "a=torch.rand(batch,seq_len,dim)\n",
    "print(a)\n",
    "b=torch.rand(batch,1,dim)\n",
    "print(b)\n",
    "res = a + b\n",
    "print(res)"
   ]
  },
  {
   "cell_type": "code",
   "execution_count": 31,
   "metadata": {},
   "outputs": [],
   "source": [
    "output = torch.rand(4,5)\n",
    "target = torch.randint(0,5,(4,1))\n",
    "pred = output.topk(5, 1, True, True)[1].t()\n",
    "expand_target = target.view(1, -1).expand_as(pred)\n",
    "correct = pred.eq(expand_target)"
   ]
  },
  {
   "cell_type": "code",
   "execution_count": 34,
   "metadata": {},
   "outputs": [
    {
     "name": "stdout",
     "output_type": "stream",
     "text": [
      "tensor([4])\n"
     ]
    }
   ],
   "source": [
    "output = torch.rand(4,5)\n",
    "top1 = output.topk(1)[1]\n",
    "print(top1[0])"
   ]
  }
 ],
 "metadata": {
  "interpreter": {
   "hash": "952a9237107f23337e2cf64b27dea29cd0600c26eb7b44c973b3922fe2f0ed3b"
  },
  "kernelspec": {
   "display_name": "Python 3.7.11 ('wav2clip_env')",
   "language": "python",
   "name": "python3"
  },
  "language_info": {
   "codemirror_mode": {
    "name": "ipython",
    "version": 3
   },
   "file_extension": ".py",
   "mimetype": "text/x-python",
   "name": "python",
   "nbconvert_exporter": "python",
   "pygments_lexer": "ipython3",
   "version": "3.7.11"
  },
  "orig_nbformat": 4
 },
 "nbformat": 4,
 "nbformat_minor": 2
}
