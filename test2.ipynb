{
 "cells": [
  {
   "cell_type": "code",
   "execution_count": 2,
   "metadata": {},
   "outputs": [],
   "source": [
    "import torch"
   ]
  },
  {
   "cell_type": "code",
   "execution_count": 14,
   "metadata": {},
   "outputs": [
    {
     "name": "stdout",
     "output_type": "stream",
     "text": [
      "tensor([[[0.9524, 0.3706],\n",
      "         [0.1303, 0.7374]],\n",
      "\n",
      "        [[0.9732, 0.3188],\n",
      "         [0.9263, 0.7869]],\n",
      "\n",
      "        [[0.8464, 0.7628],\n",
      "         [0.8697, 0.5228]],\n",
      "\n",
      "        [[0.0322, 0.2308],\n",
      "         [0.3270, 0.5727]]])\n",
      "tensor([[[0.6635, 0.5353]],\n",
      "\n",
      "        [[0.4635, 0.8658]],\n",
      "\n",
      "        [[0.6650, 0.5835]],\n",
      "\n",
      "        [[0.6548, 0.4669]]])\n",
      "tensor([[[1.6159, 0.9060],\n",
      "         [0.7938, 1.2727]],\n",
      "\n",
      "        [[1.4367, 1.1845],\n",
      "         [1.3898, 1.6527]],\n",
      "\n",
      "        [[1.5115, 1.3463],\n",
      "         [1.5348, 1.1062]],\n",
      "\n",
      "        [[0.6869, 0.6977],\n",
      "         [0.9818, 1.0396]]])\n"
     ]
    }
   ],
   "source": [
    "batch = 4\n",
    "seq_len = 2\n",
    "dim = 2\n",
    "a=torch.rand(batch,seq_len,dim)\n",
    "print(a)\n",
    "b=torch.rand(batch,1,dim)\n",
    "print(b)\n",
    "res = a + b\n",
    "print(res)"
   ]
  }
 ],
 "metadata": {
  "interpreter": {
   "hash": "952a9237107f23337e2cf64b27dea29cd0600c26eb7b44c973b3922fe2f0ed3b"
  },
  "kernelspec": {
   "display_name": "Python 3.7.11 ('wav2clip_env')",
   "language": "python",
   "name": "python3"
  },
  "language_info": {
   "codemirror_mode": {
    "name": "ipython",
    "version": 3
   },
   "file_extension": ".py",
   "mimetype": "text/x-python",
   "name": "python",
   "nbconvert_exporter": "python",
   "pygments_lexer": "ipython3",
   "version": "3.7.11"
  },
  "orig_nbformat": 4
 },
 "nbformat": 4,
 "nbformat_minor": 2
}
